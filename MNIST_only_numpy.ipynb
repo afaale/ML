{
  "nbformat": 4,
  "nbformat_minor": 0,
  "metadata": {
    "colab": {
      "provenance": [],
      "authorship_tag": "ABX9TyOnqIjb7J7fqgwOaIMFIRmF",
      "include_colab_link": true
    },
    "kernelspec": {
      "name": "python3",
      "display_name": "Python 3"
    },
    "language_info": {
      "name": "python"
    }
  },
  "cells": [
    {
      "cell_type": "markdown",
      "metadata": {
        "id": "view-in-github",
        "colab_type": "text"
      },
      "source": [
        "<a href=\"https://colab.research.google.com/github/afaale/ML/blob/ML/MNIST_only_numpy.ipynb\" target=\"_parent\"><img src=\"https://colab.research.google.com/assets/colab-badge.svg\" alt=\"Open In Colab\"/></a>"
      ]
    },
    {
      "cell_type": "markdown",
      "source": [
        "Attempt at predicting 28*28 px handwritten digits without tensorflow or keras, apart from loading the mnist dataset. The guide I followed is \n",
        "https://towardsdatascience.com/mnist-handwritten-digits-classification-from-scratch-using-python-numpy-b08e401c4dab\n",
        "\n",
        "I calculated the derivatives of loss with respect to weights, $\\frac{\\partial L}{\\partial w_i}$ , by hand for practice, the steps are as follows:\n",
        "\n",
        "1. $\\frac{\\partial L}{\\partial y_{hat}}=\\frac{y_{hat}-y}{y_{hat}(1-y_{hat})}$\n",
        "\n",
        "2. $\\frac{\\partial y_{hat}}{\\partial z}=\\sigma(z)(1-\\sigma(z))=y_{hat}(1-y_{hat})$"
      ],
      "metadata": {
        "id": "mwPFcUdnwBAj"
      }
    },
    {
      "cell_type": "code",
      "execution_count": 108,
      "metadata": {
        "id": "Ogm93lZSNvUe"
      },
      "outputs": [],
      "source": [
        "from keras.datasets import mnist\n",
        "import numpy as np\n",
        "from matplotlib import pyplot as plt\n",
        "import keras"
      ]
    },
    {
      "cell_type": "code",
      "source": [
        "(X,y), (X_test, y_test) = mnist.load_data()\n",
        "X.shape"
      ],
      "metadata": {
        "colab": {
          "base_uri": "https://localhost:8080/"
        },
        "id": "4edOZSbeODBg",
        "outputId": "18992e91-a0b6-44e3-bd30-847f0cab1e01"
      },
      "execution_count": 109,
      "outputs": [
        {
          "output_type": "execute_result",
          "data": {
            "text/plain": [
              "(60000, 28, 28)"
            ]
          },
          "metadata": {},
          "execution_count": 109
        }
      ]
    },
    {
      "cell_type": "code",
      "source": [
        "def init(x,y):\n",
        "    #initialize weight matrices for the 1st and 2nd layer\n",
        "    layer = np.random.uniform(-1,1, size=(x,y))/np.sqrt(x*y)\n",
        "    return layer.astype(np.float32)\n",
        "\n",
        "l1 = init(28*28, 128)\n",
        "l2 = init(128, 10)"
      ],
      "metadata": {
        "id": "tRk_4QkuONlC"
      },
      "execution_count": 110,
      "outputs": []
    },
    {
      "cell_type": "code",
      "source": [
        "sigmoid = lambda z: 1 / (1+np.e**-z)\n",
        "dsigmoid = lambda z: sigmoid(z)*(1-sigmoid(z))"
      ],
      "metadata": {
        "id": "oHJs1jg-e4OU"
      },
      "execution_count": 111,
      "outputs": []
    },
    {
      "cell_type": "code",
      "source": [
        "#altered softmax e^z/sum_1_k(e^z) for computational efficiency\n",
        "def softmax(x):\n",
        "    exp_element=np.exp(x-x.max())\n",
        "    return exp_element/np.sum(exp_element,axis=0)\n",
        "\n",
        "#derivative of softmax\n",
        "def d_softmax(x):\n",
        "    exp_element=np.exp(x-x.max())\n",
        "    return exp_element/np.sum(exp_element,axis=0)*(1-exp_element/np.sum(exp_element,axis=0))"
      ],
      "metadata": {
        "id": "dtFUB6jyfJT6"
      },
      "execution_count": 112,
      "outputs": []
    },
    {
      "cell_type": "code",
      "source": [
        "def forward_backward_pass(x,y):\n",
        "    #1-hot encode labels\n",
        "    targets = np.zeros((len(y), 10), np.float32)\n",
        "    targets[0, y] = 1\n",
        "\n",
        "    #forward pass: input-->hidden_layer-->output\n",
        "    #hidden layer activated with sigmoid,\n",
        "    #output_layer activated(normalized) with softmax\n",
        "    x_l1 = x@l1\n",
        "    x_sigmoid = sigmoid(x_l1)\n",
        "    x_l2 = x_sigmoid@l2\n",
        "    out = softmax(x_l2)\n",
        "\n",
        "    #backprop: calculate error y-y_hat, calculate gradient, update weights\n",
        "\n",
        "    #derivative of output(softmax) w/r to x_l2.\n",
        "    error = 2*(out-targets)/out.shape[0]*d_softmax(x_l2)\n",
        "    #matrix multiply to get matrix of same dimensions as l2, which can be \n",
        "    #subtracted from actual l2 weights matrix to update its weights\n",
        "    update_l2 = x_sigmoid.T@error\n",
        "\n",
        "    #derivative of x_sigmoid, i.e. layer1, w/r to x_l1\n",
        "    error = (l2@error.T).T*dsigmoid(x_l1)\n",
        "    #same idea as above\n",
        "    update_l1 = x.T@error\n",
        "\n",
        "    return out, update_l1, update_l2\n",
        "\n"
      ],
      "metadata": {
        "id": "EGFxnAY2f_HQ"
      },
      "execution_count": 113,
      "outputs": []
    },
    {
      "cell_type": "code",
      "source": [
        "ex = y[2].reshape(1,1)\n",
        "ex_out = np.zeros((1, 10), np.float32)\n",
        "ex_out[0,ex] = 1\n",
        "ex_out"
      ],
      "metadata": {
        "colab": {
          "base_uri": "https://localhost:8080/"
        },
        "id": "lrVFYnLPi7Fm",
        "outputId": "c2fb4b3e-5f1c-4b26-8d3f-6cf6652d8943"
      },
      "execution_count": 114,
      "outputs": [
        {
          "output_type": "execute_result",
          "data": {
            "text/plain": [
              "array([[0., 0., 0., 0., 1., 0., 0., 0., 0., 0.]], dtype=float32)"
            ]
          },
          "metadata": {},
          "execution_count": 114
        }
      ]
    },
    {
      "cell_type": "code",
      "source": [],
      "metadata": {
        "id": "rnJRgYN3kjnb"
      },
      "execution_count": 114,
      "outputs": []
    },
    {
      "cell_type": "code",
      "source": [],
      "metadata": {
        "id": "drA8npG9lux8"
      },
      "execution_count": 114,
      "outputs": []
    }
  ]
}