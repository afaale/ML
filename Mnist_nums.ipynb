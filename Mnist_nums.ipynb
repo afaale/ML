{
  "nbformat": 4,
  "nbformat_minor": 0,
  "metadata": {
    "colab": {
      "provenance": [],
      "authorship_tag": "ABX9TyMmEwlShIp4yrPyWEb/a7VG",
      "include_colab_link": true
    },
    "kernelspec": {
      "name": "python3",
      "display_name": "Python 3"
    },
    "language_info": {
      "name": "python"
    }
  },
  "cells": [
    {
      "cell_type": "markdown",
      "metadata": {
        "id": "view-in-github",
        "colab_type": "text"
      },
      "source": [
        "<a href=\"https://colab.research.google.com/github/afaale/ML/blob/ML/Mnist_nums.ipynb\" target=\"_parent\"><img src=\"https://colab.research.google.com/assets/colab-badge.svg\" alt=\"Open In Colab\"/></a>"
      ]
    },
    {
      "cell_type": "markdown",
      "source": [
        "Attempt at predicting 28*28 px handwritten digits without tensorflow or keras, apart from loading the mnist dataset. The guide I followed is \n",
        "https://towardsdatascience.com/mnist-handwritten-digits-classification-from-scratch-using-python-numpy-b08e401c4dab"
      ],
      "metadata": {
        "id": "mwPFcUdnwBAj"
      }
    },
    {
      "cell_type": "code",
      "execution_count": null,
      "metadata": {
        "id": "Ogm93lZSNvUe"
      },
      "outputs": [],
      "source": [
        "from keras.datasets import mnist\n",
        "import numpy as np\n",
        "from matplotlib import pyplot as plt\n",
        "import keras"
      ]
    },
    {
      "cell_type": "code",
      "source": [
        "(X_train,y_train), (X_test, y_test) = mnist.load_data()"
      ],
      "metadata": {
        "id": "4edOZSbeODBg"
      },
      "execution_count": null,
      "outputs": []
    },
    {
      "cell_type": "code",
      "source": [
        "#Validation split\n",
        "rand = np.arange(60000)\n",
        "#np.random.shuffle(rand)\n",
        "\n",
        "train_num = rand[:50000]\n",
        "val_num = rand[50000:]\n",
        "\n",
        "X_train, X_val = X_train[train_num], X_train[val_num]\n",
        "y_train, y_val = y_train[train_num], y_train[val_num]\n",
        "X_train.shape,X_val.shape,y_test.shape, y_val.shape\n"
      ],
      "metadata": {
        "colab": {
          "base_uri": "https://localhost:8080/"
        },
        "id": "eLf3eUeCZeC4",
        "outputId": "073a9f88-d109-4e16-ba6c-fda429e4135a"
      },
      "execution_count": null,
      "outputs": [
        {
          "output_type": "execute_result",
          "data": {
            "text/plain": [
              "((50000, 28, 28), (10000, 28, 28), (10000,), (10000,))"
            ]
          },
          "metadata": {},
          "execution_count": 79
        }
      ]
    },
    {
      "cell_type": "code",
      "source": [
        "def init(x,y):\n",
        "    #initialize weight matrices\n",
        "    layer = np.random.uniform(-1,1, size=(x,y))/np.sqrt(x*y)\n",
        "    return layer.astype(np.float32)\n",
        "\n",
        "l1 = init(28*28, 128)\n",
        "l2 = init(128, 10)"
      ],
      "metadata": {
        "id": "tRk_4QkuONlC"
      },
      "execution_count": null,
      "outputs": []
    },
    {
      "cell_type": "code",
      "source": [
        "sigmoid = lambda z: 1 / (1+np.e**-z)\n",
        "dsigmoid = lambda z: sigmoid(z)*(1-sigmoid(z))"
      ],
      "metadata": {
        "id": "oHJs1jg-e4OU"
      },
      "execution_count": null,
      "outputs": []
    },
    {
      "cell_type": "code",
      "source": [
        "#altered softmax e^z/sum_1_k(e^z) for computational efficiency\n",
        "def softmax(x):\n",
        "    exp_element=np.exp(x-x.max())\n",
        "    return exp_element/np.sum(exp_element,axis=0)\n",
        "\n",
        "#derivative of softmax\n",
        "def d_softmax(x):\n",
        "    exp_element=np.exp(x-x.max())\n",
        "    return exp_element/np.sum(exp_element,axis=0)*(1-exp_element/np.sum(exp_element,axis=0))"
      ],
      "metadata": {
        "id": "dtFUB6jyfJT6"
      },
      "execution_count": null,
      "outputs": []
    },
    {
      "cell_type": "code",
      "source": [
        "def forward_backward_pass(x,y):\n",
        "    #1-hot encode labels\n",
        "    targets = np.zeros((len(y), 10), np.float32)\n",
        "    targets[range(targets.shape[0]), y] = 1\n",
        "\n",
        "    #forward pass: input-->hidden_layer-->output\n",
        "    #hidden layer activated with sigmoid,\n",
        "    #output_layer activated(normalized) with softmax\n",
        "    x_l1 = x.dot(l1)\n",
        "    x_sigmoid = sigmoid(x_l1)\n",
        "    x_l2 = x_sigmoid.dot(l2)\n",
        "    out = softmax(x_l2)\n",
        "\n",
        "    #backprop: calculate error y-y_hat, calculate gradient, update weights\n",
        "\n",
        "    #derivative of output(softmax) w/r to x_l2.\n",
        "    error = 2*(out-targets)/out.shape[0]*d_softmax(x_l2)\n",
        "    #matrix multiply to get matrix of same dimensions as l2, which can be \n",
        "    #subtracted from actual l2 weights matrix to update its weights\n",
        "    update_l2 = x_sigmoid.T@(error)\n",
        "\n",
        "    #derivative of x_sigmoid, i.e. layer1, w/r to x_l1\n",
        "    error = (l2.dot(error.T)).T*dsigmoid(x_l1)\n",
        "    #same idea as above\n",
        "    update_l1 = x.T@(error)\n",
        "\n",
        "    return out, update_l1, update_l2\n",
        "\n"
      ],
      "metadata": {
        "id": "EGFxnAY2f_HQ"
      },
      "execution_count": null,
      "outputs": []
    },
    {
      "cell_type": "code",
      "source": [
        "epochs = 11\n",
        "lr = 0.001\n",
        "batch = 128\n",
        "\n",
        "sample = np.random.randint(0, X_train.shape[0], size=batch)\n",
        "x_batch = X_train[sample].reshape(-1, 28*28)\n",
        "y_batch = y_train[sample]"
      ],
      "metadata": {
        "id": "rnJRgYN3kjnb"
      },
      "execution_count": null,
      "outputs": []
    },
    {
      "cell_type": "code",
      "source": [
        "out, update_l1, update_l2 = forward_backward_pass(x_batch,y_batch)\n"
      ],
      "metadata": {
        "id": "rdnmhg5qRyQl"
      },
      "execution_count": null,
      "outputs": []
    },
    {
      "cell_type": "code",
      "source": [
        "category = np.argmax(out, axis=1)\n",
        "accuracy = (category == y_batch).mean()\n",
        "#accuracies.append(accuracy)\n",
        "loss = ((category-y_batch)**2).mean()\n",
        "#losses.append(loss)\n",
        "l1 -= lr*update_l1\n",
        "l2 -= lr*update_l2"
      ],
      "metadata": {
        "id": "XmIfeyA5UDNx"
      },
      "execution_count": null,
      "outputs": []
    },
    {
      "cell_type": "code",
      "source": [
        "X_val = X_val.reshape(-1, 28*28)\n",
        "val_out = np.argmax((X_val.T@l1).T@sigmoid())\n",
        "val_acc = (val_out==y_val).mean()\n",
        "#val_accuracies.append(val_acc)"
      ],
      "metadata": {
        "colab": {
          "base_uri": "https://localhost:8080/"
        },
        "id": "tCCgd2rmUEo-",
        "outputId": "63a0c1fd-99e1-4a7f-9371-cc9b9445a6d8"
      },
      "execution_count": null,
      "outputs": [
        {
          "output_type": "execute_result",
          "data": {
            "text/plain": [
              "(10000, 28, 28)"
            ]
          },
          "metadata": {},
          "execution_count": 56
        }
      ]
    },
    {
      "cell_type": "code",
      "source": [
        "ex=np.array(y_train[0]).reshape(1,1)\n",
        "ex"
      ],
      "metadata": {
        "colab": {
          "base_uri": "https://localhost:8080/"
        },
        "id": "Eb8N5cSLKc9W",
        "outputId": "0a38e696-277d-40e4-ade8-f8e471e45acb"
      },
      "execution_count": null,
      "outputs": [
        {
          "output_type": "execute_result",
          "data": {
            "text/plain": [
              "array([[5]], dtype=uint8)"
            ]
          },
          "metadata": {},
          "execution_count": 43
        }
      ]
    },
    {
      "cell_type": "code",
      "source": [
        "example_out = np.zeros((len(ex),10), np.float32)\n",
        "example_out[0,ex] = 1\n",
        "example_out"
      ],
      "metadata": {
        "colab": {
          "base_uri": "https://localhost:8080/"
        },
        "id": "XD5AuqHyJr3T",
        "outputId": "f7efb3b4-85f3-43db-f73c-7dc3fd9c68f2"
      },
      "execution_count": null,
      "outputs": [
        {
          "output_type": "execute_result",
          "data": {
            "text/plain": [
              "array([[0., 0., 0., 0., 0., 1., 0., 0., 0., 0.]], dtype=float32)"
            ]
          },
          "metadata": {},
          "execution_count": 55
        }
      ]
    },
    {
      "cell_type": "code",
      "source": [
        "#training phase in a for loop\n",
        "\n",
        "epochs = 20000\n",
        "lr = 0.001\n",
        "batch = 128\n",
        "losses, accuracies, val_accuracies = [], [], []\n",
        "\n",
        "for i in range(epochs):\n",
        "    sample = np.random.randint(0,X_train.shape[0],batch)\n",
        "    X_batch = X_train[sample].reshape(-1,28*28)\n",
        "    y_batch = y_train[sample]\n",
        "\n",
        "    out, update_l1, update_l2 = forward_backward_pass(X_batch, y_batch)\n",
        "    category = np.argmax(out, axis=1)\n",
        "    accuracy = (category==y_batch).mean()\n",
        "    accuracies.append(accuracies)\n",
        "\n",
        "    loss = ((category-y_batch)**2).mean()\n",
        "    losses.append(loss)\n",
        "\n",
        "    l1 -= lr*update_l1\n",
        "    l2 -= lr*update_l2\n",
        "\n",
        "    if i % 20 == 0:\n",
        "        X_val = X_val.reshape(-1,28*28)\n",
        "        val_out = np.argmax(softmax((sigmoid(X_val.dot(l1))).dot(l2)), axis=1)\n",
        "        val_accuracy = (val_out == y_val).mean()\n",
        "        val_accuracies.append(val_accuracy)\n",
        "    if i % 500 == 0:\n",
        "        print(f\"epoch:{i}, accuracy:{accuracy}, validation accuracy: {val_accuracy}\")        \n",
        "\n",
        "\n",
        "\n",
        "\n"
      ],
      "metadata": {
        "colab": {
          "base_uri": "https://localhost:8080/"
        },
        "id": "tt0y0kxgYY4H",
        "outputId": "e1b7c4fb-5704-42af-8e7e-bed9af6c02ca"
      },
      "execution_count": null,
      "outputs": [
        {
          "output_type": "stream",
          "name": "stdout",
          "text": [
            "epoch:0, accuracy:0.203125, validation accuracy: 0.1279\n",
            "epoch:500, accuracy:0.53125, validation accuracy: 0.6227\n",
            "epoch:1000, accuracy:0.6328125, validation accuracy: 0.7051\n",
            "epoch:1500, accuracy:0.671875, validation accuracy: 0.738\n",
            "epoch:2000, accuracy:0.671875, validation accuracy: 0.7572\n",
            "epoch:2500, accuracy:0.703125, validation accuracy: 0.7696\n",
            "epoch:3000, accuracy:0.703125, validation accuracy: 0.779\n",
            "epoch:3500, accuracy:0.765625, validation accuracy: 0.7849\n",
            "epoch:4000, accuracy:0.796875, validation accuracy: 0.7901\n",
            "epoch:4500, accuracy:0.8203125, validation accuracy: 0.7952\n",
            "epoch:5000, accuracy:0.8203125, validation accuracy: 0.8\n",
            "epoch:5500, accuracy:0.8203125, validation accuracy: 0.803\n",
            "epoch:6000, accuracy:0.75, validation accuracy: 0.8055\n",
            "epoch:6500, accuracy:0.734375, validation accuracy: 0.8081\n",
            "epoch:7000, accuracy:0.8125, validation accuracy: 0.8095\n",
            "epoch:7500, accuracy:0.7890625, validation accuracy: 0.8113\n",
            "epoch:8000, accuracy:0.765625, validation accuracy: 0.8124\n",
            "epoch:8500, accuracy:0.7421875, validation accuracy: 0.8131\n",
            "epoch:9000, accuracy:0.8125, validation accuracy: 0.8142\n",
            "epoch:9500, accuracy:0.7890625, validation accuracy: 0.8155\n",
            "epoch:10000, accuracy:0.7265625, validation accuracy: 0.8149\n",
            "epoch:10500, accuracy:0.7421875, validation accuracy: 0.8164\n",
            "epoch:11000, accuracy:0.796875, validation accuracy: 0.8164\n",
            "epoch:11500, accuracy:0.8046875, validation accuracy: 0.8176\n",
            "epoch:12000, accuracy:0.8125, validation accuracy: 0.8181\n",
            "epoch:12500, accuracy:0.7734375, validation accuracy: 0.8197\n",
            "epoch:13000, accuracy:0.7578125, validation accuracy: 0.8181\n",
            "epoch:13500, accuracy:0.7578125, validation accuracy: 0.8187\n",
            "epoch:14000, accuracy:0.84375, validation accuracy: 0.8181\n",
            "epoch:14500, accuracy:0.7890625, validation accuracy: 0.8182\n",
            "epoch:15000, accuracy:0.765625, validation accuracy: 0.8178\n",
            "epoch:15500, accuracy:0.875, validation accuracy: 0.8179\n",
            "epoch:16000, accuracy:0.8046875, validation accuracy: 0.8172\n",
            "epoch:16500, accuracy:0.828125, validation accuracy: 0.8169\n",
            "epoch:17000, accuracy:0.796875, validation accuracy: 0.8172\n",
            "epoch:17500, accuracy:0.7734375, validation accuracy: 0.8168\n",
            "epoch:18000, accuracy:0.84375, validation accuracy: 0.8173\n",
            "epoch:18500, accuracy:0.78125, validation accuracy: 0.8164\n",
            "epoch:19000, accuracy:0.8125, validation accuracy: 0.8157\n",
            "epoch:19500, accuracy:0.7890625, validation accuracy: 0.8163\n"
          ]
        }
      ]
    },
    {
      "cell_type": "code",
      "source": [
        "plt.plot(val_accuracies)\n"
      ],
      "metadata": {
        "colab": {
          "base_uri": "https://localhost:8080/",
          "height": 447
        },
        "id": "MDRgegFxPimF",
        "outputId": "901442fd-1885-45cb-bced-8430bf901770"
      },
      "execution_count": null,
      "outputs": [
        {
          "output_type": "execute_result",
          "data": {
            "text/plain": [
              "[<matplotlib.lines.Line2D at 0x7f806ca4e8f0>]"
            ]
          },
          "metadata": {},
          "execution_count": 85
        },
        {
          "output_type": "display_data",
          "data": {
            "text/plain": [
              "<Figure size 640x480 with 1 Axes>"
            ],
            "image/png": "[encoded data removed]"
          },
          "metadata": {}
        }
      ]
    },
    {
      "cell_type": "code",
      "source": [
        "X_test = X_test.reshape(-1, 28*28)\n",
        "test_out=np.argmax(softmax(sigmoid(X_test.dot(l1)).dot(l2)),axis=1)\n",
        "test_acc=(test_out==y_test).mean().item()\n",
        "print(f'Test accuracy = {test_acc*100:.2f}%')\n",
        " "
      ],
      "metadata": {
        "colab": {
          "base_uri": "https://localhost:8080/"
        },
        "id": "N4GG5ky_QN1p",
        "outputId": "198ae8ed-768a-4743-aca1-ebf226f8cc29"
      },
      "execution_count": null,
      "outputs": [
        {
          "output_type": "stream",
          "name": "stdout",
          "text": [
            "Test accuracy = 81.08%\n"
          ]
        }
      ]
    },
    {
      "cell_type": "code",
      "source": [
        "m = [[0,0,0,0,0,0,0],\n",
        "     [0,0,10,10,10,0,0],\n",
        "     [0,0,0,0,10,0,0],\n",
        "     [0,0,0,0,10,0,0],\n",
        "     [0,0,0,0,10,0,0],\n",
        "     [0,0,0,0,10,10,10],\n",
        "     [0,0,0,0,0,0,0]]\n",
        "\n",
        "m = np.concatenate([np.concatenate([[x]*4 for x in y]*4) for y in m])\n",
        "m=m.reshape(1,-1)\n",
        "plt.imshow(m.reshape(28,28))\n",
        "x = np.argmax(sigmoid(m.dot(l1)).dot(l2),axis=1)\n",
        "x"
      ],
      "metadata": {
        "colab": {
          "base_uri": "https://localhost:8080/",
          "height": 447
        },
        "id": "veQIBsx9QYyO",
        "outputId": "9160e006-b28d-4e32-88dc-71ab6fd286f5"
      },
      "execution_count": null,
      "outputs": [
        {
          "output_type": "execute_result",
          "data": {
            "text/plain": [
              "array([1])"
            ]
          },
          "metadata": {},
          "execution_count": 95
        },
        {
          "output_type": "display_data",
          "data": {
            "text/plain": [
              "<Figure size 640x480 with 1 Axes>"
            ],
            "image/png": "[encoded data removed]"
          },
          "metadata": {}
        }
      ]
    },
    {
      "cell_type": "code",
      "source": [],
      "metadata": {
        "id": "Tf4UPMWMQ8YL"
      },
      "execution_count": null,
      "outputs": []
    }
  ]
}