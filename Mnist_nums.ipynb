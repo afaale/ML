{
  "nbformat": 4,
  "nbformat_minor": 0,
  "metadata": {
    "colab": {
      "provenance": [],
      "authorship_tag": "ABX9TyONQC4t3Lvy4/2LX4iK/MFK",
      "include_colab_link": true
    },
    "kernelspec": {
      "name": "python3",
      "display_name": "Python 3"
    },
    "language_info": {
      "name": "python"
    }
  },
  "cells": [
    {
      "cell_type": "markdown",
      "metadata": {
        "id": "view-in-github",
        "colab_type": "text"
      },
      "source": [
        "<a href=\"https://colab.research.google.com/github/afaale/ML/blob/ML/Mnist_nums.ipynb\" target=\"_parent\"><img src=\"https://colab.research.google.com/assets/colab-badge.svg\" alt=\"Open In Colab\"/></a>"
      ]
    },
    {
      "cell_type": "markdown",
      "source": [
        "Attempt at predicting 28*28 px handwritten digits without tensorflow or keras, apart from loading the mnist dataset. The guide I followed is \n",
        "https://towardsdatascience.com/mnist-handwritten-digits-classification-from-scratch-using-python-numpy-b08e401c4dab\n",
        "Test accuracy: 85.04 %"
      ],
      "metadata": {
        "id": "mwPFcUdnwBAj"
      }
    },
    {
      "cell_type": "code",
      "execution_count": 2,
      "metadata": {
        "id": "Ogm93lZSNvUe"
      },
      "outputs": [],
      "source": [
        "from keras.datasets import mnist\n",
        "import numpy as np\n",
        "from matplotlib import pyplot as plt\n",
        "import keras"
      ]
    },
    {
      "cell_type": "code",
      "source": [
        "(X_train,y_train), (X_test, y_test) = mnist.load_data()"
      ],
      "metadata": {
        "id": "4edOZSbeODBg",
        "colab": {
          "base_uri": "https://localhost:8080/"
        },
        "outputId": "f742942c-d204-4e46-a197-4f7f40b13637"
      },
      "execution_count": 3,
      "outputs": [
        {
          "output_type": "stream",
          "name": "stdout",
          "text": [
            "Downloading data from https://storage.googleapis.com/tensorflow/tf-keras-datasets/mnist.npz\n",
            "11490434/11490434 [==============================] - 0s 0us/step\n"
          ]
        }
      ]
    },
    {
      "cell_type": "code",
      "source": [
        "#Validation split\n",
        "rand = np.arange(60000)\n",
        "#np.random.shuffle(rand)\n",
        "\n",
        "train_num = rand[:50000]\n",
        "val_num = rand[50000:]\n",
        "\n",
        "X_train, X_val = X_train[train_num], X_train[val_num]\n",
        "y_train, y_val = y_train[train_num], y_train[val_num]\n",
        "X_train.shape,X_val.shape,y_test.shape, y_val.shape\n"
      ],
      "metadata": {
        "colab": {
          "base_uri": "https://localhost:8080/"
        },
        "id": "eLf3eUeCZeC4",
        "outputId": "b963a910-e729-4d18-c1ae-cd50b55c53e1"
      },
      "execution_count": 4,
      "outputs": [
        {
          "output_type": "execute_result",
          "data": {
            "text/plain": [
              "((50000, 28, 28), (10000, 28, 28), (10000,), (10000,))"
            ]
          },
          "metadata": {},
          "execution_count": 4
        }
      ]
    },
    {
      "cell_type": "code",
      "source": [
        "def init(x,y):\n",
        "    #initialize weight matrices\n",
        "    layer = np.random.uniform(-1,1, size=(x,y))/np.sqrt(x*y)\n",
        "    return layer.astype(np.float32)\n",
        "\n",
        "l1 = init(28*28, 128)\n",
        "l2 = init(128, 10)"
      ],
      "metadata": {
        "id": "tRk_4QkuONlC"
      },
      "execution_count": 5,
      "outputs": []
    },
    {
      "cell_type": "code",
      "source": [
        "sigmoid = lambda z: 1 / (1+np.e**-z)\n",
        "dsigmoid = lambda z: sigmoid(z)*(1-sigmoid(z))"
      ],
      "metadata": {
        "id": "oHJs1jg-e4OU"
      },
      "execution_count": 6,
      "outputs": []
    },
    {
      "cell_type": "code",
      "source": [
        "#altered softmax e^z/sum_1_k(e^z) for computational efficiency\n",
        "def softmax(x):\n",
        "    exp_element=np.exp(x-x.max())\n",
        "    return exp_element/np.sum(exp_element,axis=0)\n",
        "\n",
        "#derivative of softmax\n",
        "def d_softmax(x):\n",
        "    exp_element=np.exp(x-x.max())\n",
        "    return exp_element/np.sum(exp_element,axis=0)*(1-exp_element/np.sum(exp_element,axis=0))"
      ],
      "metadata": {
        "id": "dtFUB6jyfJT6"
      },
      "execution_count": 7,
      "outputs": []
    },
    {
      "cell_type": "code",
      "source": [
        "def forward_backward_pass(x,y):\n",
        "    #1-hot encode labels\n",
        "    targets = np.zeros((len(y), 10), np.float32)\n",
        "    targets[range(targets.shape[0]), y] = 1\n",
        "\n",
        "    #forward pass: input-->hidden_layer-->output\n",
        "    #hidden layer activated with sigmoid,\n",
        "    #output_layer activated(normalized) with softmax\n",
        "    x_l1 = x.dot(l1)\n",
        "    x_sigmoid = sigmoid(x_l1)\n",
        "    x_l2 = x_sigmoid.dot(l2)\n",
        "    out = softmax(x_l2)\n",
        "\n",
        "    #backprop: calculate error y-y_hat, calculate gradient, update weights\n",
        "\n",
        "    #derivative of output(softmax) w/r to x_l2.\n",
        "    error = 2*(out-targets)/out.shape[0]*d_softmax(x_l2)\n",
        "    #matrix multiply to get matrix of same dimensions as l2, which can be \n",
        "    #subtracted from actual l2 weights matrix to update its weights\n",
        "    update_l2 = x_sigmoid.T@(error)\n",
        "\n",
        "    #derivative of x_sigmoid, i.e. layer1, w/r to x_l1\n",
        "    error = (l2.dot(error.T)).T*dsigmoid(x_l1)\n",
        "    #same idea as above\n",
        "    update_l1 = x.T@(error)\n",
        "\n",
        "    return out, update_l1, update_l2\n",
        "\n"
      ],
      "metadata": {
        "id": "EGFxnAY2f_HQ"
      },
      "execution_count": 8,
      "outputs": []
    },
    {
      "cell_type": "code",
      "source": [
        "epochs = 11\n",
        "lr = 0.001\n",
        "batch = 128\n",
        "\n",
        "sample = np.random.randint(0, X_train.shape[0], size=batch)\n",
        "x_batch = X_train[sample].reshape(-1, 28*28)\n",
        "y_batch = y_train[sample]"
      ],
      "metadata": {
        "id": "rnJRgYN3kjnb"
      },
      "execution_count": 9,
      "outputs": []
    },
    {
      "cell_type": "code",
      "source": [
        "out, update_l1, update_l2 = forward_backward_pass(x_batch,y_batch)\n"
      ],
      "metadata": {
        "id": "rdnmhg5qRyQl"
      },
      "execution_count": 10,
      "outputs": []
    },
    {
      "cell_type": "code",
      "source": [
        "category = np.argmax(out, axis=1)\n",
        "accuracy = (category == y_batch).mean()\n",
        "#accuracies.append(accuracy)\n",
        "loss = ((category-y_batch)**2).mean()\n",
        "#losses.append(loss)\n",
        "l1 -= lr*update_l1\n",
        "l2 -= lr*update_l2"
      ],
      "metadata": {
        "id": "XmIfeyA5UDNx"
      },
      "execution_count": 11,
      "outputs": []
    },
    {
      "cell_type": "code",
      "source": [
        "ex=np.array(y_train[0]).reshape(1,1)\n",
        "ex"
      ],
      "metadata": {
        "colab": {
          "base_uri": "https://localhost:8080/"
        },
        "id": "Eb8N5cSLKc9W",
        "outputId": "4f6bcb8d-6218-4bb8-83fe-1c77f943cd4a"
      },
      "execution_count": 13,
      "outputs": [
        {
          "output_type": "execute_result",
          "data": {
            "text/plain": [
              "array([[5]], dtype=uint8)"
            ]
          },
          "metadata": {},
          "execution_count": 13
        }
      ]
    },
    {
      "cell_type": "code",
      "source": [
        "example_out = np.zeros((len(ex),10), np.float32)\n",
        "example_out[0,ex] = 1\n",
        "example_out"
      ],
      "metadata": {
        "colab": {
          "base_uri": "https://localhost:8080/"
        },
        "id": "XD5AuqHyJr3T",
        "outputId": "ce4eb127-84f6-4067-ad4b-cce7fec73248"
      },
      "execution_count": 14,
      "outputs": [
        {
          "output_type": "execute_result",
          "data": {
            "text/plain": [
              "array([[0., 0., 0., 0., 0., 1., 0., 0., 0., 0.]], dtype=float32)"
            ]
          },
          "metadata": {},
          "execution_count": 14
        }
      ]
    },
    {
      "cell_type": "code",
      "source": [
        "#training phase in a for loop\n",
        "\n",
        "epochs = 13000\n",
        "lr = 0.001\n",
        "batch = 128\n",
        "losses, accuracies, val_accuracies = [], [], []\n",
        "\n",
        "for i in range(epochs):\n",
        "    sample = np.random.randint(0,X_train.shape[0],batch)\n",
        "    X_batch = X_train[sample].reshape(-1,28*28)\n",
        "    y_batch = y_train[sample]\n",
        "\n",
        "    out, update_l1, update_l2 = forward_backward_pass(X_batch, y_batch)\n",
        "    category = np.argmax(out, axis=1)\n",
        "    accuracy = (category==y_batch).mean()\n",
        "    accuracies.append(accuracies)\n",
        "\n",
        "    loss = ((category-y_batch)**2).mean()\n",
        "    losses.append(loss)\n",
        "\n",
        "    l1 -= lr*update_l1\n",
        "    l2 -= lr*update_l2\n",
        "\n",
        "    if i % 20 == 0:\n",
        "        X_val = X_val.reshape(-1,28*28)\n",
        "        val_out = np.argmax(softmax((sigmoid(X_val.dot(l1))).dot(l2)), axis=1)\n",
        "        val_accuracy = (val_out == y_val).mean()\n",
        "        val_accuracies.append(val_accuracy)\n",
        "    if i % 500 == 0:\n",
        "        print(f\"epoch:{i}, accuracy:{accuracy}, validation accuracy: {val_accuracy}\")        \n",
        "\n",
        "\n",
        "\n",
        "\n"
      ],
      "metadata": {
        "colab": {
          "base_uri": "https://localhost:8080/",
          "height": 720
        },
        "id": "tt0y0kxgYY4H",
        "outputId": "eed364c3-78d2-4d34-986b-4606b067f521"
      },
      "execution_count": 15,
      "outputs": [
        {
          "output_type": "stream",
          "name": "stdout",
          "text": [
            "epoch:0, accuracy:0.1328125, validation accuracy: 0.1542\n",
            "epoch:500, accuracy:0.640625, validation accuracy: 0.6257\n",
            "epoch:1000, accuracy:0.6640625, validation accuracy: 0.7281\n",
            "epoch:1500, accuracy:0.796875, validation accuracy: 0.7688\n",
            "epoch:2000, accuracy:0.796875, validation accuracy: 0.7901\n",
            "epoch:2500, accuracy:0.7578125, validation accuracy: 0.8071\n",
            "epoch:3000, accuracy:0.796875, validation accuracy: 0.8197\n",
            "epoch:3500, accuracy:0.765625, validation accuracy: 0.8291\n",
            "epoch:4000, accuracy:0.8203125, validation accuracy: 0.8342\n",
            "epoch:4500, accuracy:0.7890625, validation accuracy: 0.8394\n",
            "epoch:5000, accuracy:0.796875, validation accuracy: 0.8424\n",
            "epoch:5500, accuracy:0.8203125, validation accuracy: 0.8443\n",
            "epoch:6000, accuracy:0.7734375, validation accuracy: 0.849\n",
            "epoch:6500, accuracy:0.84375, validation accuracy: 0.8507\n",
            "epoch:7000, accuracy:0.75, validation accuracy: 0.8522\n",
            "epoch:7500, accuracy:0.8046875, validation accuracy: 0.8529\n",
            "epoch:8000, accuracy:0.890625, validation accuracy: 0.8532\n",
            "epoch:8500, accuracy:0.828125, validation accuracy: 0.8541\n",
            "epoch:9000, accuracy:0.8203125, validation accuracy: 0.8548\n",
            "epoch:9500, accuracy:0.8203125, validation accuracy: 0.8554\n",
            "epoch:10000, accuracy:0.8125, validation accuracy: 0.856\n",
            "epoch:10500, accuracy:0.8984375, validation accuracy: 0.8576\n",
            "epoch:11000, accuracy:0.8515625, validation accuracy: 0.8575\n",
            "epoch:11500, accuracy:0.8359375, validation accuracy: 0.859\n",
            "epoch:12000, accuracy:0.8984375, validation accuracy: 0.8591\n",
            "epoch:12500, accuracy:0.828125, validation accuracy: 0.8588\n",
            "epoch:13000, accuracy:0.84375, validation accuracy: 0.8591\n",
            "epoch:13500, accuracy:0.859375, validation accuracy: 0.859\n"
          ]
        },
        {
          "output_type": "error",
          "ename": "KeyboardInterrupt",
          "evalue": "ignored",
          "traceback": [
            "\u001b[0;31m---------------------------------------------------------------------------\u001b[0m",
            "\u001b[0;31mKeyboardInterrupt\u001b[0m                         Traceback (most recent call last)",
            "\u001b[0;32m<ipython-input-15-2fd1a05348e4>\u001b[0m in \u001b[0;36m<cell line: 8>\u001b[0;34m()\u001b[0m\n\u001b[1;32m     24\u001b[0m     \u001b[0;32mif\u001b[0m \u001b[0mi\u001b[0m \u001b[0;34m%\u001b[0m \u001b[0;36m20\u001b[0m \u001b[0;34m==\u001b[0m \u001b[0;36m0\u001b[0m\u001b[0;34m:\u001b[0m\u001b[0;34m\u001b[0m\u001b[0;34m\u001b[0m\u001b[0m\n\u001b[1;32m     25\u001b[0m         \u001b[0mX_val\u001b[0m \u001b[0;34m=\u001b[0m \u001b[0mX_val\u001b[0m\u001b[0;34m.\u001b[0m\u001b[0mreshape\u001b[0m\u001b[0;34m(\u001b[0m\u001b[0;34m-\u001b[0m\u001b[0;36m1\u001b[0m\u001b[0;34m,\u001b[0m\u001b[0;36m28\u001b[0m\u001b[0;34m*\u001b[0m\u001b[0;36m28\u001b[0m\u001b[0;34m)\u001b[0m\u001b[0;34m\u001b[0m\u001b[0;34m\u001b[0m\u001b[0m\n\u001b[0;32m---> 26\u001b[0;31m         \u001b[0mval_out\u001b[0m \u001b[0;34m=\u001b[0m \u001b[0mnp\u001b[0m\u001b[0;34m.\u001b[0m\u001b[0margmax\u001b[0m\u001b[0;34m(\u001b[0m\u001b[0msoftmax\u001b[0m\u001b[0;34m(\u001b[0m\u001b[0;34m(\u001b[0m\u001b[0msigmoid\u001b[0m\u001b[0;34m(\u001b[0m\u001b[0mX_val\u001b[0m\u001b[0;34m.\u001b[0m\u001b[0mdot\u001b[0m\u001b[0;34m(\u001b[0m\u001b[0ml1\u001b[0m\u001b[0;34m)\u001b[0m\u001b[0;34m)\u001b[0m\u001b[0;34m)\u001b[0m\u001b[0;34m.\u001b[0m\u001b[0mdot\u001b[0m\u001b[0;34m(\u001b[0m\u001b[0ml2\u001b[0m\u001b[0;34m)\u001b[0m\u001b[0;34m)\u001b[0m\u001b[0;34m,\u001b[0m \u001b[0maxis\u001b[0m\u001b[0;34m=\u001b[0m\u001b[0;36m1\u001b[0m\u001b[0;34m)\u001b[0m\u001b[0;34m\u001b[0m\u001b[0;34m\u001b[0m\u001b[0m\n\u001b[0m\u001b[1;32m     27\u001b[0m         \u001b[0mval_accuracy\u001b[0m \u001b[0;34m=\u001b[0m \u001b[0;34m(\u001b[0m\u001b[0mval_out\u001b[0m \u001b[0;34m==\u001b[0m \u001b[0my_val\u001b[0m\u001b[0;34m)\u001b[0m\u001b[0;34m.\u001b[0m\u001b[0mmean\u001b[0m\u001b[0;34m(\u001b[0m\u001b[0;34m)\u001b[0m\u001b[0;34m\u001b[0m\u001b[0;34m\u001b[0m\u001b[0m\n\u001b[1;32m     28\u001b[0m         \u001b[0mval_accuracies\u001b[0m\u001b[0;34m.\u001b[0m\u001b[0mappend\u001b[0m\u001b[0;34m(\u001b[0m\u001b[0mval_accuracy\u001b[0m\u001b[0;34m)\u001b[0m\u001b[0;34m\u001b[0m\u001b[0;34m\u001b[0m\u001b[0m\n",
            "\u001b[0;31mKeyboardInterrupt\u001b[0m: "
          ]
        }
      ]
    },
    {
      "cell_type": "code",
      "source": [
        "plt.plot(val_accuracies)\n"
      ],
      "metadata": {
        "colab": {
          "base_uri": "https://localhost:8080/",
          "height": 447
        },
        "id": "MDRgegFxPimF",
        "outputId": "429601aa-07dd-4e98-a44b-51091c5173aa"
      },
      "execution_count": 16,
      "outputs": [
        {
          "output_type": "execute_result",
          "data": {
            "text/plain": [
              "[<matplotlib.lines.Line2D at 0x7fb794fb2920>]"
            ]
          },
          "metadata": {},
          "execution_count": 16
        },
        {
          "output_type": "display_data",
          "data": {
            "text/plain": [
              "<Figure size 640x480 with 1 Axes>"
            ],
            "image/png": "[encoded data removed]"
          },
          "metadata": {}
        }
      ]
    },
    {
      "cell_type": "code",
      "source": [
        "X_test = X_test.reshape(-1, 28*28)\n",
        "test_out=np.argmax(softmax(sigmoid(X_test.dot(l1)).dot(l2)),axis=1)\n",
        "test_acc=(test_out==y_test).mean().item()\n",
        "print(f'Test accuracy = {test_acc*100:.2f}%')\n",
        " "
      ],
      "metadata": {
        "colab": {
          "base_uri": "https://localhost:8080/"
        },
        "id": "N4GG5ky_QN1p",
        "outputId": "8391632c-495d-455d-93eb-e8985e67157b"
      },
      "execution_count": 17,
      "outputs": [
        {
          "output_type": "stream",
          "name": "stdout",
          "text": [
            "Test accuracy = 85.04%\n"
          ]
        }
      ]
    },
    {
      "cell_type": "code",
      "source": [
        "m = [[0,0,0,0,0,0,0],\n",
        "     [0,0,0,0,10,0,0],\n",
        "     [0,0,0,0,10,0,0],\n",
        "     [0,0,0,0,10,0,0],\n",
        "     [0,0,0,0,10,0,0],\n",
        "     [0,0,0,0,10,0,0],\n",
        "     [0,0,0,0,0,0,0]]\n",
        "\n",
        "m = np.concatenate([np.concatenate([[x]*4 for x in y]*4) for y in m])\n",
        "m=m.reshape(1,-1)\n",
        "plt.imshow(m.reshape(28,28))\n",
        "x = np.argmax(sigmoid(m.dot(l1)).dot(l2),axis=1)\n",
        "x"
      ],
      "metadata": {
        "colab": {
          "base_uri": "https://localhost:8080/",
          "height": 447
        },
        "id": "veQIBsx9QYyO",
        "outputId": "dc6f06a5-b6e3-4dda-e484-c8fb604b0b89"
      },
      "execution_count": 18,
      "outputs": [
        {
          "output_type": "execute_result",
          "data": {
            "text/plain": [
              "array([1])"
            ]
          },
          "metadata": {},
          "execution_count": 18
        },
        {
          "output_type": "display_data",
          "data": {
            "text/plain": [
              "<Figure size 640x480 with 1 Axes>"
            ],
            "image/png": "[encoded data removed]"
          },
          "metadata": {}
        }
      ]
    }
  ]
}