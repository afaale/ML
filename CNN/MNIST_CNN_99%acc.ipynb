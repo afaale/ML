{
  "nbformat": 4,
  "nbformat_minor": 0,
  "metadata": {
    "colab": {
      "provenance": [],
      "gpuType": "T4",
      "authorship_tag": "ABX9TyOnHfJCJkGv42hWYd+MI3bx",
      "include_colab_link": true
    },
    "kernelspec": {
      "name": "python3",
      "display_name": "Python 3"
    },
    "language_info": {
      "name": "python"
    },
    "accelerator": "GPU",
    "gpuClass": "standard"
  },
  "cells": [
    {
      "cell_type": "markdown",
      "metadata": {
        "id": "view-in-github",
        "colab_type": "text"
      },
      "source": [
        "<a href=\"https://colab.research.google.com/github/afaale/ML/blob/ML/MNIST_CNN_99%25acc.ipynb\" target=\"_parent\"><img src=\"https://colab.research.google.com/assets/colab-badge.svg\" alt=\"Open In Colab\"/></a>"
      ]
    },
    {
      "cell_type": "code",
      "execution_count": 3,
      "metadata": {
        "id": "0XpNiq1pOkyu"
      },
      "outputs": [],
      "source": [
        "import tensorflow as tf\n",
        "from matplotlib import pyplot as plt\n",
        "import pandas as pd"
      ]
    },
    {
      "cell_type": "code",
      "source": [
        "(train_X, train_y), (test_X, test_y) = tf.keras.datasets.mnist.load_data()\n",
        "train_X, test_X = train_X / 255, test_X / 255\n"
      ],
      "metadata": {
        "colab": {
          "base_uri": "https://localhost:8080/"
        },
        "id": "YTw5-ionOtl6",
        "outputId": "d3fbf45a-90c5-4020-916b-9886baab2144"
      },
      "execution_count": 4,
      "outputs": [
        {
          "output_type": "stream",
          "name": "stdout",
          "text": [
            "Downloading data from https://storage.googleapis.com/tensorflow/tf-keras-datasets/mnist.npz\n",
            "11490434/11490434 [==============================] - 0s 0us/step\n"
          ]
        }
      ]
    },
    {
      "cell_type": "code",
      "source": [
        "train_y = tf.keras.utils.to_categorical(train_y)\n",
        "test_y = tf.keras.utils.to_categorical(test_y)"
      ],
      "metadata": {
        "id": "x8nfOAwVPKZH"
      },
      "execution_count": 5,
      "outputs": []
    },
    {
      "cell_type": "code",
      "source": [
        "train_X[0].shape"
      ],
      "metadata": {
        "colab": {
          "base_uri": "https://localhost:8080/"
        },
        "id": "jMYTDO6MS5An",
        "outputId": "548650f7-73c9-4dbd-ffc5-15902252dd9c"
      },
      "execution_count": 6,
      "outputs": [
        {
          "output_type": "execute_result",
          "data": {
            "text/plain": [
              "(28, 28)"
            ]
          },
          "metadata": {},
          "execution_count": 6
        }
      ]
    },
    {
      "cell_type": "code",
      "source": [
        "model = tf.keras.models.Sequential()\n",
        "\n",
        "model.add(tf.keras.layers.Conv2D(filters = 32, kernel_size=(3,3), input_shape=(28, 28, 1), activation='relu'))\n",
        "model.add(tf.keras.layers.MaxPool2D())\n",
        "\n",
        "model.add(tf.keras.layers.Conv2D(filters = 32, kernel_size=(3,3), activation='relu'))\n",
        "model.add(tf.keras.layers.MaxPool2D())\n",
        "\n",
        "model.add(tf.keras.layers.Flatten())\n",
        "model.add(tf.keras.layers.Dropout(0.5))\n",
        "\n",
        "model.add(tf.keras.layers.Dense(units = 10, activation='softmax', ))\n",
        "model.compile(optimizer='adam', loss='categorical_crossentropy', metrics=['accuracy'], )"
      ],
      "metadata": {
        "id": "NMOU-dOAQcVJ"
      },
      "execution_count": 7,
      "outputs": []
    },
    {
      "cell_type": "code",
      "source": [
        "history = model.fit(train_X, train_y, epochs=10, validation_split=0.1 )"
      ],
      "metadata": {
        "colab": {
          "base_uri": "https://localhost:8080/"
        },
        "id": "lGWDWyouR1od",
        "outputId": "689f5f1f-75e2-49ef-d768-0b2ece82c951"
      },
      "execution_count": 8,
      "outputs": [
        {
          "output_type": "stream",
          "name": "stdout",
          "text": [
            "Epoch 1/10\n",
            "1688/1688 [==============================] - 20s 5ms/step - loss: 0.2778 - accuracy: 0.9125 - val_loss: 0.0654 - val_accuracy: 0.9832\n",
            "Epoch 2/10\n",
            "1688/1688 [==============================] - 6s 4ms/step - loss: 0.1084 - accuracy: 0.9667 - val_loss: 0.0490 - val_accuracy: 0.9867\n",
            "Epoch 3/10\n",
            "1688/1688 [==============================] - 7s 4ms/step - loss: 0.0868 - accuracy: 0.9730 - val_loss: 0.0448 - val_accuracy: 0.9887\n",
            "Epoch 4/10\n",
            "1688/1688 [==============================] - 7s 4ms/step - loss: 0.0743 - accuracy: 0.9774 - val_loss: 0.0391 - val_accuracy: 0.9900\n",
            "Epoch 5/10\n",
            "1688/1688 [==============================] - 6s 4ms/step - loss: 0.0666 - accuracy: 0.9788 - val_loss: 0.0361 - val_accuracy: 0.9897\n",
            "Epoch 6/10\n",
            "1688/1688 [==============================] - 7s 4ms/step - loss: 0.0630 - accuracy: 0.9805 - val_loss: 0.0342 - val_accuracy: 0.9907\n",
            "Epoch 7/10\n",
            "1688/1688 [==============================] - 6s 4ms/step - loss: 0.0591 - accuracy: 0.9814 - val_loss: 0.0334 - val_accuracy: 0.9900\n",
            "Epoch 8/10\n",
            "1688/1688 [==============================] - 7s 4ms/step - loss: 0.0564 - accuracy: 0.9826 - val_loss: 0.0344 - val_accuracy: 0.9913\n",
            "Epoch 9/10\n",
            "1688/1688 [==============================] - 7s 4ms/step - loss: 0.0533 - accuracy: 0.9832 - val_loss: 0.0306 - val_accuracy: 0.9910\n",
            "Epoch 10/10\n",
            "1688/1688 [==============================] - 8s 5ms/step - loss: 0.0505 - accuracy: 0.9834 - val_loss: 0.0305 - val_accuracy: 0.9905\n"
          ]
        }
      ]
    },
    {
      "cell_type": "code",
      "source": [
        "pd.DataFrame(history.history).plot()"
      ],
      "metadata": {
        "colab": {
          "base_uri": "https://localhost:8080/",
          "height": 447
        },
        "id": "bVWbd5q1T6iY",
        "outputId": "ec9908c9-905e-473d-9b4f-7930beab88d6"
      },
      "execution_count": 9,
      "outputs": [
        {
          "output_type": "execute_result",
          "data": {
            "text/plain": [
              "<Axes: >"
            ]
          },
          "metadata": {},
          "execution_count": 9
        },
        {
          "output_type": "display_data",
          "data": {
            "text/plain": [
              "<Figure size 640x480 with 1 Axes>"
            ],
            "image/png": "[encoded data removed]"
          },
          "metadata": {}
        }
      ]
    },
    {
      "cell_type": "code",
      "source": [
        "model.evaluate(test_X, test_y, verbose=2)"
      ],
      "metadata": {
        "colab": {
          "base_uri": "https://localhost:8080/"
        },
        "id": "joYk4gt0URf4",
        "outputId": "0b0f6098-dc2e-4857-f52f-b3a21ff612f4"
      },
      "execution_count": 10,
      "outputs": [
        {
          "output_type": "stream",
          "name": "stdout",
          "text": [
            "313/313 - 1s - loss: 0.0272 - accuracy: 0.9902 - 647ms/epoch - 2ms/step\n"
          ]
        },
        {
          "output_type": "execute_result",
          "data": {
            "text/plain": [
              "[0.027214551344513893, 0.9901999831199646]"
            ]
          },
          "metadata": {},
          "execution_count": 10
        }
      ]
    },
    {
      "cell_type": "code",
      "source": [
        "model.save('mnist_99%acc.keras')"
      ],
      "metadata": {
        "id": "ZWHEhd2UDPC8"
      },
      "execution_count": 12,
      "outputs": []
    }
  ]
}
