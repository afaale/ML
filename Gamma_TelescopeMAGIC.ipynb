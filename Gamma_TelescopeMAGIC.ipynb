{
  "nbformat": 4,
  "nbformat_minor": 0,
  "metadata": {
    "colab": {
      "provenance": [],
      "toc_visible": true,
      "gpuType": "T4",
      "mount_file_id": "10zGUx7p2Ek07rI07pUkuiVBLGTnpdznb",
      "authorship_tag": "ABX9TyP9zlvIQcCd0E7ym9FuSzW5",
      "include_colab_link": true
    },
    "kernelspec": {
      "name": "python3",
      "display_name": "Python 3"
    },
    "language_info": {
      "name": "python"
    },
    "accelerator": "GPU"
  },
  "cells": [
    {
      "cell_type": "markdown",
      "metadata": {
        "id": "view-in-github",
        "colab_type": "text"
      },
      "source": [
        "<a href=\"https://colab.research.google.com/github/afaale/ML/blob/ML/Gamma_TelescopeMAGIC.ipynb\" target=\"_parent\"><img src=\"https://colab.research.google.com/assets/colab-badge.svg\" alt=\"Open In Colab\"/></a>"
      ]
    },
    {
      "cell_type": "markdown",
      "source": [
        "Source: Machine Learning for everybody youtube video\n",
        "\n",
        "https://www.youtube.com/watch?v=i_LwzRVP7bg&ab_channel=freeCodeCamp.org"
      ],
      "metadata": {
        "id": "RxK7V4hFfd3a"
      }
    },
    {
      "cell_type": "markdown",
      "source": [
        "# Data preparation"
      ],
      "metadata": {
        "id": "hlGs4umrsqb0"
      }
    },
    {
      "cell_type": "markdown",
      "source": [
        "The data are MC generated to simulate registration of high energy gamma particles in a ground-based atmospheric Cherenkov gamma telescope using the imaging technique. Cherenkov gamma telescope observes high energy gamma rays, taking advantage of the radiation emitted by charged particles produced inside the electromagnetic showers initiated by the gammas, and developing in the atmosphere. This Cherenkov radiation (of visible to UV wavelengths) leaks through the atmosphere and gets recorded in the detector, allowing reconstruction of the shower parameters. The available information consists of pulses left by the incoming Cherenkov photons on the photomultiplier tubes, arranged in a plane, the camera. Depending on the energy of the primary gamma, a total of few hundreds to some 10000 Cherenkov photons get collected, in patterns (called the shower image), allowing to discriminate statistically those caused by primary gammas (signal) from the images of hadronic showers initiated by cosmic rays in the upper atmosphere (background).\n",
        "\n",
        "\n",
        "https://archive.ics.uci.edu/ml/datasets/magic%2Bgamma%2Btelescope"
      ],
      "metadata": {
        "id": "7eDHVqCrl3HU"
      }
    },
    {
      "cell_type": "markdown",
      "source": [
        "![Large159.jpg](data:image/jpeg;base64,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)\n"
      ],
      "metadata": {
        "id": "3DmbWRokrwBX"
      }
    },
    {
      "cell_type": "code",
      "execution_count": 1,
      "metadata": {
        "id": "h25zBhFtatLt"
      },
      "outputs": [],
      "source": [
        "import numpy as np\n",
        "import pandas as pd\n",
        "import matplotlib.pyplot as plt"
      ]
    },
    {
      "cell_type": "code",
      "source": [
        "cols = [\"fLength\", \"fWidth\", \"fSize\", \"fConc\", \"fConc1\", \"fAsym\", \"fM3Long\", \"fM3Trans\", \"fAlpha\",\"fDist\", \"class\"]"
      ],
      "metadata": {
        "id": "OJ1IY-PcbcYv"
      },
      "execution_count": 2,
      "outputs": []
    },
    {
      "cell_type": "code",
      "source": [
        "data = pd.read_csv(\"/content/drive/MyDrive/magic04.data\", names=cols)\n",
        "data"
      ],
      "metadata": {
        "colab": {
          "base_uri": "https://localhost:8080/",
          "height": 423
        },
        "id": "NvUIm43Ua5Hc",
        "outputId": "94f61ee9-de85-4325-950a-5e193fb6d759"
      },
      "execution_count": 3,
      "outputs": [
        {
          "output_type": "execute_result",
          "data": {
            "text/plain": [
              "        fLength    fWidth   fSize   fConc  fConc1     fAsym   fM3Long  \\\n",
              "0       28.7967   16.0021  2.6449  0.3918  0.1982   27.7004   22.0110   \n",
              "1       31.6036   11.7235  2.5185  0.5303  0.3773   26.2722   23.8238   \n",
              "2      162.0520  136.0310  4.0612  0.0374  0.0187  116.7410  -64.8580   \n",
              "3       23.8172    9.5728  2.3385  0.6147  0.3922   27.2107   -6.4633   \n",
              "4       75.1362   30.9205  3.1611  0.3168  0.1832   -5.5277   28.5525   \n",
              "...         ...       ...     ...     ...     ...       ...       ...   \n",
              "19015   21.3846   10.9170  2.6161  0.5857  0.3934   15.2618   11.5245   \n",
              "19016   28.9452    6.7020  2.2672  0.5351  0.2784   37.0816   13.1853   \n",
              "19017   75.4455   47.5305  3.4483  0.1417  0.0549   -9.3561   41.0562   \n",
              "19018  120.5135   76.9018  3.9939  0.0944  0.0683    5.8043  -93.5224   \n",
              "19019  187.1814   53.0014  3.2093  0.2876  0.1539 -167.3125 -168.4558   \n",
              "\n",
              "       fM3Trans   fAlpha     fDist class  \n",
              "0       -8.2027  40.0920   81.8828     g  \n",
              "1       -9.9574   6.3609  205.2610     g  \n",
              "2      -45.2160  76.9600  256.7880     g  \n",
              "3       -7.1513  10.4490  116.7370     g  \n",
              "4       21.8393   4.6480  356.4620     g  \n",
              "...         ...      ...       ...   ...  \n",
              "19015    2.8766   2.4229  106.8258     h  \n",
              "19016   -2.9632  86.7975  247.4560     h  \n",
              "19017   -9.4662  30.2987  256.5166     h  \n",
              "19018  -63.8389  84.6874  408.3166     h  \n",
              "19019   31.4755  52.7310  272.3174     h  \n",
              "\n",
              "[19020 rows x 11 columns]"
            ],
            "text/html": [
              "\n",
              "  <div id=\"df-f72b6fb1-501c-46a0-92da-bfd44f98eb5f\">\n",
              "    <div class=\"colab-df-container\">\n",
              "      <div>\n",
              "<style scoped>\n",
              "    .dataframe tbody tr th:only-of-type {\n",
              "        vertical-align: middle;\n",
              "    }\n",
              "\n",
              "    .dataframe tbody tr th {\n",
              "        vertical-align: top;\n",
              "    }\n",
              "\n",
              "    .dataframe thead th {\n",
              "        text-align: right;\n",
              "    }\n",
              "</style>\n",
              "<table border=\"1\" class=\"dataframe\">\n",
              "  <thead>\n",
              "    <tr style=\"text-align: right;\">\n",
              "      <th></th>\n",
              "      <th>fLength</th>\n",
              "      <th>fWidth</th>\n",
              "      <th>fSize</th>\n",
              "      <th>fConc</th>\n",
              "      <th>fConc1</th>\n",
              "      <th>fAsym</th>\n",
              "      <th>fM3Long</th>\n",
              "      <th>fM3Trans</th>\n",
              "      <th>fAlpha</th>\n",
              "      <th>fDist</th>\n",
              "      <th>class</th>\n",
              "    </tr>\n",
              "  </thead>\n",
              "  <tbody>\n",
              "    <tr>\n",
              "      <th>0</th>\n",
              "      <td>28.7967</td>\n",
              "      <td>16.0021</td>\n",
              "      <td>2.6449</td>\n",
              "      <td>0.3918</td>\n",
              "      <td>0.1982</td>\n",
              "      <td>27.7004</td>\n",
              "      <td>22.0110</td>\n",
              "      <td>-8.2027</td>\n",
              "      <td>40.0920</td>\n",
              "      <td>81.8828</td>\n",
              "      <td>g</td>\n",
              "    </tr>\n",
              "    <tr>\n",
              "      <th>1</th>\n",
              "      <td>31.6036</td>\n",
              "      <td>11.7235</td>\n",
              "      <td>2.5185</td>\n",
              "      <td>0.5303</td>\n",
              "      <td>0.3773</td>\n",
              "      <td>26.2722</td>\n",
              "      <td>23.8238</td>\n",
              "      <td>-9.9574</td>\n",
              "      <td>6.3609</td>\n",
              "      <td>205.2610</td>\n",
              "      <td>g</td>\n",
              "    </tr>\n",
              "    <tr>\n",
              "      <th>2</th>\n",
              "      <td>162.0520</td>\n",
              "      <td>136.0310</td>\n",
              "      <td>4.0612</td>\n",
              "      <td>0.0374</td>\n",
              "      <td>0.0187</td>\n",
              "      <td>116.7410</td>\n",
              "      <td>-64.8580</td>\n",
              "      <td>-45.2160</td>\n",
              "      <td>76.9600</td>\n",
              "      <td>256.7880</td>\n",
              "      <td>g</td>\n",
              "    </tr>\n",
              "    <tr>\n",
              "      <th>3</th>\n",
              "      <td>23.8172</td>\n",
              "      <td>9.5728</td>\n",
              "      <td>2.3385</td>\n",
              "      <td>0.6147</td>\n",
              "      <td>0.3922</td>\n",
              "      <td>27.2107</td>\n",
              "      <td>-6.4633</td>\n",
              "      <td>-7.1513</td>\n",
              "      <td>10.4490</td>\n",
              "      <td>116.7370</td>\n",
              "      <td>g</td>\n",
              "    </tr>\n",
              "    <tr>\n",
              "      <th>4</th>\n",
              "      <td>75.1362</td>\n",
              "      <td>30.9205</td>\n",
              "      <td>3.1611</td>\n",
              "      <td>0.3168</td>\n",
              "      <td>0.1832</td>\n",
              "      <td>-5.5277</td>\n",
              "      <td>28.5525</td>\n",
              "      <td>21.8393</td>\n",
              "      <td>4.6480</td>\n",
              "      <td>356.4620</td>\n",
              "      <td>g</td>\n",
              "    </tr>\n",
              "    <tr>\n",
              "      <th>...</th>\n",
              "      <td>...</td>\n",
              "      <td>...</td>\n",
              "      <td>...</td>\n",
              "      <td>...</td>\n",
              "      <td>...</td>\n",
              "      <td>...</td>\n",
              "      <td>...</td>\n",
              "      <td>...</td>\n",
              "      <td>...</td>\n",
              "      <td>...</td>\n",
              "      <td>...</td>\n",
              "    </tr>\n",
              "    <tr>\n",
              "      <th>19015</th>\n",
              "      <td>21.3846</td>\n",
              "      <td>10.9170</td>\n",
              "      <td>2.6161</td>\n",
              "      <td>0.5857</td>\n",
              "      <td>0.3934</td>\n",
              "      <td>15.2618</td>\n",
              "      <td>11.5245</td>\n",
              "      <td>2.8766</td>\n",
              "      <td>2.4229</td>\n",
              "      <td>106.8258</td>\n",
              "      <td>h</td>\n",
              "    </tr>\n",
              "    <tr>\n",
              "      <th>19016</th>\n",
              "      <td>28.9452</td>\n",
              "      <td>6.7020</td>\n",
              "      <td>2.2672</td>\n",
              "      <td>0.5351</td>\n",
              "      <td>0.2784</td>\n",
              "      <td>37.0816</td>\n",
              "      <td>13.1853</td>\n",
              "      <td>-2.9632</td>\n",
              "      <td>86.7975</td>\n",
              "      <td>247.4560</td>\n",
              "      <td>h</td>\n",
              "    </tr>\n",
              "    <tr>\n",
              "      <th>19017</th>\n",
              "      <td>75.4455</td>\n",
              "      <td>47.5305</td>\n",
              "      <td>3.4483</td>\n",
              "      <td>0.1417</td>\n",
              "      <td>0.0549</td>\n",
              "      <td>-9.3561</td>\n",
              "      <td>41.0562</td>\n",
              "      <td>-9.4662</td>\n",
              "      <td>30.2987</td>\n",
              "      <td>256.5166</td>\n",
              "      <td>h</td>\n",
              "    </tr>\n",
              "    <tr>\n",
              "      <th>19018</th>\n",
              "      <td>120.5135</td>\n",
              "      <td>76.9018</td>\n",
              "      <td>3.9939</td>\n",
              "      <td>0.0944</td>\n",
              "      <td>0.0683</td>\n",
              "      <td>5.8043</td>\n",
              "      <td>-93.5224</td>\n",
              "      <td>-63.8389</td>\n",
              "      <td>84.6874</td>\n",
              "      <td>408.3166</td>\n",
              "      <td>h</td>\n",
              "    </tr>\n",
              "    <tr>\n",
              "      <th>19019</th>\n",
              "      <td>187.1814</td>\n",
              "      <td>53.0014</td>\n",
              "      <td>3.2093</td>\n",
              "      <td>0.2876</td>\n",
              "      <td>0.1539</td>\n",
              "      <td>-167.3125</td>\n",
              "      <td>-168.4558</td>\n",
              "      <td>31.4755</td>\n",
              "      <td>52.7310</td>\n",
              "      <td>272.3174</td>\n",
              "      <td>h</td>\n",
              "    </tr>\n",
              "  </tbody>\n",
              "</table>\n",
              "<p>19020 rows × 11 columns</p>\n",
              "</div>\n",
              "      <button class=\"colab-df-convert\" onclick=\"convertToInteractive('df-f72b6fb1-501c-46a0-92da-bfd44f98eb5f')\"\n",
              "              title=\"Convert this dataframe to an interactive table.\"\n",
              "              style=\"display:none;\">\n",
              "        \n",
              "  <svg xmlns=\"http://www.w3.org/2000/svg\" height=\"24px\"viewBox=\"0 0 24 24\"\n",
              "       width=\"24px\">\n",
              "    <path d=\"M0 0h24v24H0V0z\" fill=\"none\"/>\n",
              "    <path d=\"M18.56 5.44l.94 2.06.94-2.06 2.06-.94-2.06-.94-.94-2.06-.94 2.06-2.06.94zm-11 1L8.5 8.5l.94-2.06 2.06-.94-2.06-.94L8.5 2.5l-.94 2.06-2.06.94zm10 10l.94 2.06.94-2.06 2.06-.94-2.06-.94-.94-2.06-.94 2.06-2.06.94z\"/><path d=\"M17.41 7.96l-1.37-1.37c-.4-.4-.92-.59-1.43-.59-.52 0-1.04.2-1.43.59L10.3 9.45l-7.72 7.72c-.78.78-.78 2.05 0 2.83L4 21.41c.39.39.9.59 1.41.59.51 0 1.02-.2 1.41-.59l7.78-7.78 2.81-2.81c.8-.78.8-2.07 0-2.86zM5.41 20L4 18.59l7.72-7.72 1.47 1.35L5.41 20z\"/>\n",
              "  </svg>\n",
              "      </button>\n",
              "      \n",
              "  <style>\n",
              "    .colab-df-container {\n",
              "      display:flex;\n",
              "      flex-wrap:wrap;\n",
              "      gap: 12px;\n",
              "    }\n",
              "\n",
              "    .colab-df-convert {\n",
              "      background-color: #E8F0FE;\n",
              "      border: none;\n",
              "      border-radius: 50%;\n",
              "      cursor: pointer;\n",
              "      display: none;\n",
              "      fill: #1967D2;\n",
              "      height: 32px;\n",
              "      padding: 0 0 0 0;\n",
              "      width: 32px;\n",
              "    }\n",
              "\n",
              "    .colab-df-convert:hover {\n",
              "      background-color: #E2EBFA;\n",
              "      box-shadow: 0px 1px 2px rgba(60, 64, 67, 0.3), 0px 1px 3px 1px rgba(60, 64, 67, 0.15);\n",
              "      fill: #174EA6;\n",
              "    }\n",
              "\n",
              "    [theme=dark] .colab-df-convert {\n",
              "      background-color: #3B4455;\n",
              "      fill: #D2E3FC;\n",
              "    }\n",
              "\n",
              "    [theme=dark] .colab-df-convert:hover {\n",
              "      background-color: #434B5C;\n",
              "      box-shadow: 0px 1px 3px 1px rgba(0, 0, 0, 0.15);\n",
              "      filter: drop-shadow(0px 1px 2px rgba(0, 0, 0, 0.3));\n",
              "      fill: #FFFFFF;\n",
              "    }\n",
              "  </style>\n",
              "\n",
              "      <script>\n",
              "        const buttonEl =\n",
              "          document.querySelector('#df-f72b6fb1-501c-46a0-92da-bfd44f98eb5f button.colab-df-convert');\n",
              "        buttonEl.style.display =\n",
              "          google.colab.kernel.accessAllowed ? 'block' : 'none';\n",
              "\n",
              "        async function convertToInteractive(key) {\n",
              "          const element = document.querySelector('#df-f72b6fb1-501c-46a0-92da-bfd44f98eb5f');\n",
              "          const dataTable =\n",
              "            await google.colab.kernel.invokeFunction('convertToInteractive',\n",
              "                                                     [key], {});\n",
              "          if (!dataTable) return;\n",
              "\n",
              "          const docLinkHtml = 'Like what you see? Visit the ' +\n",
              "            '<a target=\"_blank\" href=https://colab.research.google.com/notebooks/data_table.ipynb>data table notebook</a>'\n",
              "            + ' to learn more about interactive tables.';\n",
              "          element.innerHTML = '';\n",
              "          dataTable['output_type'] = 'display_data';\n",
              "          await google.colab.output.renderOutput(dataTable, element);\n",
              "          const docLink = document.createElement('div');\n",
              "          docLink.innerHTML = docLinkHtml;\n",
              "          element.appendChild(docLink);\n",
              "        }\n",
              "      </script>\n",
              "    </div>\n",
              "  </div>\n",
              "  "
            ]
          },
          "metadata": {},
          "execution_count": 3
        }
      ]
    },
    {
      "cell_type": "code",
      "source": [
        "#change \"g\" to 0, \"h\" to 1\n",
        "data[\"class\"] = (data[\"class\"] == \"g\").astype(int)\n",
        "data.head()"
      ],
      "metadata": {
        "colab": {
          "base_uri": "https://localhost:8080/",
          "height": 206
        },
        "id": "M32SRrYGdd8V",
        "outputId": "4efb3598-64f0-47c4-9d01-dda225c42782"
      },
      "execution_count": 4,
      "outputs": [
        {
          "output_type": "execute_result",
          "data": {
            "text/plain": [
              "    fLength    fWidth   fSize   fConc  fConc1     fAsym  fM3Long  fM3Trans  \\\n",
              "0   28.7967   16.0021  2.6449  0.3918  0.1982   27.7004  22.0110   -8.2027   \n",
              "1   31.6036   11.7235  2.5185  0.5303  0.3773   26.2722  23.8238   -9.9574   \n",
              "2  162.0520  136.0310  4.0612  0.0374  0.0187  116.7410 -64.8580  -45.2160   \n",
              "3   23.8172    9.5728  2.3385  0.6147  0.3922   27.2107  -6.4633   -7.1513   \n",
              "4   75.1362   30.9205  3.1611  0.3168  0.1832   -5.5277  28.5525   21.8393   \n",
              "\n",
              "    fAlpha     fDist  class  \n",
              "0  40.0920   81.8828      1  \n",
              "1   6.3609  205.2610      1  \n",
              "2  76.9600  256.7880      1  \n",
              "3  10.4490  116.7370      1  \n",
              "4   4.6480  356.4620      1  "
            ],
            "text/html": [
              "\n",
              "  <div id=\"df-e0001055-e29a-4790-9bc9-862733df9216\">\n",
              "    <div class=\"colab-df-container\">\n",
              "      <div>\n",
              "<style scoped>\n",
              "    .dataframe tbody tr th:only-of-type {\n",
              "        vertical-align: middle;\n",
              "    }\n",
              "\n",
              "    .dataframe tbody tr th {\n",
              "        vertical-align: top;\n",
              "    }\n",
              "\n",
              "    .dataframe thead th {\n",
              "        text-align: right;\n",
              "    }\n",
              "</style>\n",
              "<table border=\"1\" class=\"dataframe\">\n",
              "  <thead>\n",
              "    <tr style=\"text-align: right;\">\n",
              "      <th></th>\n",
              "      <th>fLength</th>\n",
              "      <th>fWidth</th>\n",
              "      <th>fSize</th>\n",
              "      <th>fConc</th>\n",
              "      <th>fConc1</th>\n",
              "      <th>fAsym</th>\n",
              "      <th>fM3Long</th>\n",
              "      <th>fM3Trans</th>\n",
              "      <th>fAlpha</th>\n",
              "      <th>fDist</th>\n",
              "      <th>class</th>\n",
              "    </tr>\n",
              "  </thead>\n",
              "  <tbody>\n",
              "    <tr>\n",
              "      <th>0</th>\n",
              "      <td>28.7967</td>\n",
              "      <td>16.0021</td>\n",
              "      <td>2.6449</td>\n",
              "      <td>0.3918</td>\n",
              "      <td>0.1982</td>\n",
              "      <td>27.7004</td>\n",
              "      <td>22.0110</td>\n",
              "      <td>-8.2027</td>\n",
              "      <td>40.0920</td>\n",
              "      <td>81.8828</td>\n",
              "      <td>1</td>\n",
              "    </tr>\n",
              "    <tr>\n",
              "      <th>1</th>\n",
              "      <td>31.6036</td>\n",
              "      <td>11.7235</td>\n",
              "      <td>2.5185</td>\n",
              "      <td>0.5303</td>\n",
              "      <td>0.3773</td>\n",
              "      <td>26.2722</td>\n",
              "      <td>23.8238</td>\n",
              "      <td>-9.9574</td>\n",
              "      <td>6.3609</td>\n",
              "      <td>205.2610</td>\n",
              "      <td>1</td>\n",
              "    </tr>\n",
              "    <tr>\n",
              "      <th>2</th>\n",
              "      <td>162.0520</td>\n",
              "      <td>136.0310</td>\n",
              "      <td>4.0612</td>\n",
              "      <td>0.0374</td>\n",
              "      <td>0.0187</td>\n",
              "      <td>116.7410</td>\n",
              "      <td>-64.8580</td>\n",
              "      <td>-45.2160</td>\n",
              "      <td>76.9600</td>\n",
              "      <td>256.7880</td>\n",
              "      <td>1</td>\n",
              "    </tr>\n",
              "    <tr>\n",
              "      <th>3</th>\n",
              "      <td>23.8172</td>\n",
              "      <td>9.5728</td>\n",
              "      <td>2.3385</td>\n",
              "      <td>0.6147</td>\n",
              "      <td>0.3922</td>\n",
              "      <td>27.2107</td>\n",
              "      <td>-6.4633</td>\n",
              "      <td>-7.1513</td>\n",
              "      <td>10.4490</td>\n",
              "      <td>116.7370</td>\n",
              "      <td>1</td>\n",
              "    </tr>\n",
              "    <tr>\n",
              "      <th>4</th>\n",
              "      <td>75.1362</td>\n",
              "      <td>30.9205</td>\n",
              "      <td>3.1611</td>\n",
              "      <td>0.3168</td>\n",
              "      <td>0.1832</td>\n",
              "      <td>-5.5277</td>\n",
              "      <td>28.5525</td>\n",
              "      <td>21.8393</td>\n",
              "      <td>4.6480</td>\n",
              "      <td>356.4620</td>\n",
              "      <td>1</td>\n",
              "    </tr>\n",
              "  </tbody>\n",
              "</table>\n",
              "</div>\n",
              "      <button class=\"colab-df-convert\" onclick=\"convertToInteractive('df-e0001055-e29a-4790-9bc9-862733df9216')\"\n",
              "              title=\"Convert this dataframe to an interactive table.\"\n",
              "              style=\"display:none;\">\n",
              "        \n",
              "  <svg xmlns=\"http://www.w3.org/2000/svg\" height=\"24px\"viewBox=\"0 0 24 24\"\n",
              "       width=\"24px\">\n",
              "    <path d=\"M0 0h24v24H0V0z\" fill=\"none\"/>\n",
              "    <path d=\"M18.56 5.44l.94 2.06.94-2.06 2.06-.94-2.06-.94-.94-2.06-.94 2.06-2.06.94zm-11 1L8.5 8.5l.94-2.06 2.06-.94-2.06-.94L8.5 2.5l-.94 2.06-2.06.94zm10 10l.94 2.06.94-2.06 2.06-.94-2.06-.94-.94-2.06-.94 2.06-2.06.94z\"/><path d=\"M17.41 7.96l-1.37-1.37c-.4-.4-.92-.59-1.43-.59-.52 0-1.04.2-1.43.59L10.3 9.45l-7.72 7.72c-.78.78-.78 2.05 0 2.83L4 21.41c.39.39.9.59 1.41.59.51 0 1.02-.2 1.41-.59l7.78-7.78 2.81-2.81c.8-.78.8-2.07 0-2.86zM5.41 20L4 18.59l7.72-7.72 1.47 1.35L5.41 20z\"/>\n",
              "  </svg>\n",
              "      </button>\n",
              "      \n",
              "  <style>\n",
              "    .colab-df-container {\n",
              "      display:flex;\n",
              "      flex-wrap:wrap;\n",
              "      gap: 12px;\n",
              "    }\n",
              "\n",
              "    .colab-df-convert {\n",
              "      background-color: #E8F0FE;\n",
              "      border: none;\n",
              "      border-radius: 50%;\n",
              "      cursor: pointer;\n",
              "      display: none;\n",
              "      fill: #1967D2;\n",
              "      height: 32px;\n",
              "      padding: 0 0 0 0;\n",
              "      width: 32px;\n",
              "    }\n",
              "\n",
              "    .colab-df-convert:hover {\n",
              "      background-color: #E2EBFA;\n",
              "      box-shadow: 0px 1px 2px rgba(60, 64, 67, 0.3), 0px 1px 3px 1px rgba(60, 64, 67, 0.15);\n",
              "      fill: #174EA6;\n",
              "    }\n",
              "\n",
              "    [theme=dark] .colab-df-convert {\n",
              "      background-color: #3B4455;\n",
              "      fill: #D2E3FC;\n",
              "    }\n",
              "\n",
              "    [theme=dark] .colab-df-convert:hover {\n",
              "      background-color: #434B5C;\n",
              "      box-shadow: 0px 1px 3px 1px rgba(0, 0, 0, 0.15);\n",
              "      filter: drop-shadow(0px 1px 2px rgba(0, 0, 0, 0.3));\n",
              "      fill: #FFFFFF;\n",
              "    }\n",
              "  </style>\n",
              "\n",
              "      <script>\n",
              "        const buttonEl =\n",
              "          document.querySelector('#df-e0001055-e29a-4790-9bc9-862733df9216 button.colab-df-convert');\n",
              "        buttonEl.style.display =\n",
              "          google.colab.kernel.accessAllowed ? 'block' : 'none';\n",
              "\n",
              "        async function convertToInteractive(key) {\n",
              "          const element = document.querySelector('#df-e0001055-e29a-4790-9bc9-862733df9216');\n",
              "          const dataTable =\n",
              "            await google.colab.kernel.invokeFunction('convertToInteractive',\n",
              "                                                     [key], {});\n",
              "          if (!dataTable) return;\n",
              "\n",
              "          const docLinkHtml = 'Like what you see? Visit the ' +\n",
              "            '<a target=\"_blank\" href=https://colab.research.google.com/notebooks/data_table.ipynb>data table notebook</a>'\n",
              "            + ' to learn more about interactive tables.';\n",
              "          element.innerHTML = '';\n",
              "          dataTable['output_type'] = 'display_data';\n",
              "          await google.colab.output.renderOutput(dataTable, element);\n",
              "          const docLink = document.createElement('div');\n",
              "          docLink.innerHTML = docLinkHtml;\n",
              "          element.appendChild(docLink);\n",
              "        }\n",
              "      </script>\n",
              "    </div>\n",
              "  </div>\n",
              "  "
            ]
          },
          "metadata": {},
          "execution_count": 4
        }
      ]
    },
    {
      "cell_type": "code",
      "source": [
        "plt.figure(figsize=(16,16))\n",
        "i = 1\n",
        "\n",
        "for label in cols[:]:\n",
        "    plt.subplot(4,3,i)\n",
        "    plt.hist(data[data[\"class\"]==1][label], color=\"red\", label='gamma',alpha = 0.7, density=True)\n",
        "    plt.hist(data[data[\"class\"]==0][label], color=\"blue\", label='hadron', alpha=0.7, density=True)\n",
        "    plt.title(label, fontdict={'fontweight':'bold'})\n",
        "    plt.ylabel(\"Probability\")\n",
        "    plt.xlabel('')\n",
        "    plt.legend()\n",
        "    i += 1\n",
        "print(i)\n",
        "plt.show()"
      ],
      "metadata": {
        "colab": {
          "base_uri": "https://localhost:8080/",
          "height": 1000
        },
        "id": "-AfDyAxhlrhv",
        "outputId": "a1d19df2-4606-4367-9708-cc534b1b753a"
      },
      "execution_count": 5,
      "outputs": [
        {
          "output_type": "stream",
          "name": "stdout",
          "text": [
            "12\n"
          ]
        },
        {
          "output_type": "display_data",
          "data": {
            "text/plain": [
              "<Figure size 1600x1600 with 11 Axes>"
            ],
            "image/png": "[encoded data removed]"
          },
          "metadata": {}
        }
      ]
    },
    {
      "cell_type": "markdown",
      "source": [
        "# Spliting"
      ],
      "metadata": {
        "id": "eYoHrIBBs5f3"
      }
    },
    {
      "cell_type": "code",
      "source": [
        "train, val, test = np.split(data.sample(frac=1), [int(0.6*len(data)), int(0.8*len(data))])"
      ],
      "metadata": {
        "id": "0bMN7ehMs1jY"
      },
      "execution_count": 6,
      "outputs": []
    },
    {
      "cell_type": "code",
      "source": [
        "train.shape, val.shape, test.shape"
      ],
      "metadata": {
        "colab": {
          "base_uri": "https://localhost:8080/"
        },
        "id": "8E5bC2X1u5-3",
        "outputId": "884abe0e-9982-4627-8051-6258470394fe"
      },
      "execution_count": 7,
      "outputs": [
        {
          "output_type": "execute_result",
          "data": {
            "text/plain": [
              "((11412, 11), (3804, 11), (3804, 11))"
            ]
          },
          "metadata": {},
          "execution_count": 7
        }
      ]
    },
    {
      "cell_type": "code",
      "source": [
        "print(train.max(), '\\n'*3, train.min())"
      ],
      "metadata": {
        "colab": {
          "base_uri": "https://localhost:8080/"
        },
        "id": "3tkOq1QQTrqg",
        "outputId": "00e4ec52-e26f-4c9f-dd32-6ecdeb99a110"
      },
      "execution_count": 8,
      "outputs": [
        {
          "output_type": "stream",
          "name": "stdout",
          "text": [
            "fLength     334.1770\n",
            "fWidth      228.0385\n",
            "fSize         5.3233\n",
            "fConc         0.8930\n",
            "fConc1        0.6752\n",
            "fAsym       575.2407\n",
            "fM3Long     227.8174\n",
            "fM3Trans    179.8510\n",
            "fAlpha       90.0000\n",
            "fDist       466.4078\n",
            "class         1.0000\n",
            "dtype: float64 \n",
            "\n",
            "\n",
            " fLength       4.2835\n",
            "fWidth        0.0000\n",
            "fSize         1.9413\n",
            "fConc         0.0133\n",
            "fConc1        0.0003\n",
            "fAsym      -457.9161\n",
            "fM3Long    -331.7800\n",
            "fM3Trans   -205.8947\n",
            "fAlpha        0.0000\n",
            "fDist         1.2826\n",
            "class         0.0000\n",
            "dtype: float64\n"
          ]
        }
      ]
    },
    {
      "cell_type": "code",
      "source": [
        "from sklearn.preprocessing import StandardScaler\n",
        "from imblearn.over_sampling import RandomOverSampler"
      ],
      "metadata": {
        "id": "XuLAXA_g2htO"
      },
      "execution_count": 9,
      "outputs": []
    },
    {
      "cell_type": "code",
      "source": [
        "np.array(data[data.columns[:-1]])"
      ],
      "metadata": {
        "colab": {
          "base_uri": "https://localhost:8080/"
        },
        "id": "-rM21bQFSQf8",
        "outputId": "2c02a42e-9d65-4325-a13f-176cbd28fb7f"
      },
      "execution_count": 10,
      "outputs": [
        {
          "output_type": "execute_result",
          "data": {
            "text/plain": [
              "array([[ 28.7967,  16.0021,   2.6449, ...,  -8.2027,  40.092 ,  81.8828],\n",
              "       [ 31.6036,  11.7235,   2.5185, ...,  -9.9574,   6.3609, 205.261 ],\n",
              "       [162.052 , 136.031 ,   4.0612, ..., -45.216 ,  76.96  , 256.788 ],\n",
              "       ...,\n",
              "       [ 75.4455,  47.5305,   3.4483, ...,  -9.4662,  30.2987, 256.5166],\n",
              "       [120.5135,  76.9018,   3.9939, ..., -63.8389,  84.6874, 408.3166],\n",
              "       [187.1814,  53.0014,   3.2093, ...,  31.4755,  52.731 , 272.3174]])"
            ]
          },
          "metadata": {},
          "execution_count": 10
        }
      ]
    },
    {
      "cell_type": "code",
      "source": [
        "def scale(data, oversample=False):\n",
        "    X = data[data.columns[:-1]].values\n",
        "    y = data[data.columns[-1]].values\n",
        "\n",
        "    scaler = StandardScaler()\n",
        "    X = scaler.fit_transform(X)\n",
        "\n",
        "    if oversample:\n",
        "        ros = RandomOverSampler()\n",
        "        X, y = ros.fit_resample(X, y)\n",
        "\n",
        "    data = np.hstack((X,np.reshape(y, (-1,1))))\n",
        "\n",
        "    return data, X, y\n",
        "\n"
      ],
      "metadata": {
        "id": "xhjdcxszviZM"
      },
      "execution_count": 11,
      "outputs": []
    },
    {
      "cell_type": "code",
      "source": [
        "train, X_train, y_train = scale(train, False)\n",
        "val, X_val, y_val = scale(val, False)\n",
        "test, X_test, y_test = scale(test, False)"
      ],
      "metadata": {
        "id": "8MQORvO9wD8E"
      },
      "execution_count": 12,
      "outputs": []
    },
    {
      "cell_type": "code",
      "source": [
        "train.max(), train.min()"
      ],
      "metadata": {
        "colab": {
          "base_uri": "https://localhost:8080/"
        },
        "id": "5KYPDqiZTP7O",
        "outputId": "f9c59fbe-4a60-466d-d9af-4bf7712ddcdd"
      },
      "execution_count": 13,
      "outputs": [
        {
          "output_type": "execute_result",
          "data": {
            "text/plain": [
              "(11.140681253565347, -9.84735161257667)"
            ]
          },
          "metadata": {},
          "execution_count": 13
        }
      ]
    },
    {
      "cell_type": "code",
      "source": [
        "test.max(), test.min()"
      ],
      "metadata": {
        "colab": {
          "base_uri": "https://localhost:8080/"
        },
        "id": "xa-BJ1O7Tkh7",
        "outputId": "64462c7d-64cc-44f7-b297-62ccd8e88c56"
      },
      "execution_count": 14,
      "outputs": [
        {
          "output_type": "execute_result",
          "data": {
            "text/plain": [
              "(11.144745936803702, -7.210873320148135)"
            ]
          },
          "metadata": {},
          "execution_count": 14
        }
      ]
    },
    {
      "cell_type": "markdown",
      "source": [
        "# kNN"
      ],
      "metadata": {
        "id": "ZrcX_XvF7amk"
      }
    },
    {
      "cell_type": "code",
      "source": [
        "from sklearn.neighbors import KNeighborsClassifier\n",
        "from sklearn.metrics import classification_report"
      ],
      "metadata": {
        "id": "Ht-zK55k7etm"
      },
      "execution_count": 15,
      "outputs": []
    },
    {
      "cell_type": "code",
      "source": [
        "knn_model = KNeighborsClassifier(3)\n",
        "knn_model.fit(X_train, y_train)\n"
      ],
      "metadata": {
        "colab": {
          "base_uri": "https://localhost:8080/",
          "height": 74
        },
        "id": "VPSdlx_w8Awa",
        "outputId": "04cd8b02-3034-4ed5-cd6a-7b0928523aa1"
      },
      "execution_count": 16,
      "outputs": [
        {
          "output_type": "execute_result",
          "data": {
            "text/plain": [
              "KNeighborsClassifier(n_neighbors=3)"
            ],
            "text/html": [
              "<style>#sk-container-id-1 {color: black;background-color: white;}#sk-container-id-1 pre{padding: 0;}#sk-container-id-1 div.sk-toggleable {background-color: white;}#sk-container-id-1 label.sk-toggleable__label {cursor: pointer;display: block;width: 100%;margin-bottom: 0;padding: 0.3em;box-sizing: border-box;text-align: center;}#sk-container-id-1 label.sk-toggleable__label-arrow:before {content: \"▸\";float: left;margin-right: 0.25em;color: #696969;}#sk-container-id-1 label.sk-toggleable__label-arrow:hover:before {color: black;}#sk-container-id-1 div.sk-estimator:hover label.sk-toggleable__label-arrow:before {color: black;}#sk-container-id-1 div.sk-toggleable__content {max-height: 0;max-width: 0;overflow: hidden;text-align: left;background-color: #f0f8ff;}#sk-container-id-1 div.sk-toggleable__content pre {margin: 0.2em;color: black;border-radius: 0.25em;background-color: #f0f8ff;}#sk-container-id-1 input.sk-toggleable__control:checked~div.sk-toggleable__content {max-height: 200px;max-width: 100%;overflow: auto;}#sk-container-id-1 input.sk-toggleable__control:checked~label.sk-toggleable__label-arrow:before {content: \"▾\";}#sk-container-id-1 div.sk-estimator input.sk-toggleable__control:checked~label.sk-toggleable__label {background-color: #d4ebff;}#sk-container-id-1 div.sk-label input.sk-toggleable__control:checked~label.sk-toggleable__label {background-color: #d4ebff;}#sk-container-id-1 input.sk-hidden--visually {border: 0;clip: rect(1px 1px 1px 1px);clip: rect(1px, 1px, 1px, 1px);height: 1px;margin: -1px;overflow: hidden;padding: 0;position: absolute;width: 1px;}#sk-container-id-1 div.sk-estimator {font-family: monospace;background-color: #f0f8ff;border: 1px dotted black;border-radius: 0.25em;box-sizing: border-box;margin-bottom: 0.5em;}#sk-container-id-1 div.sk-estimator:hover {background-color: #d4ebff;}#sk-container-id-1 div.sk-parallel-item::after {content: \"\";width: 100%;border-bottom: 1px solid gray;flex-grow: 1;}#sk-container-id-1 div.sk-label:hover label.sk-toggleable__label {background-color: #d4ebff;}#sk-container-id-1 div.sk-serial::before {content: \"\";position: absolute;border-left: 1px solid gray;box-sizing: border-box;top: 0;bottom: 0;left: 50%;z-index: 0;}#sk-container-id-1 div.sk-serial {display: flex;flex-direction: column;align-items: center;background-color: white;padding-right: 0.2em;padding-left: 0.2em;position: relative;}#sk-container-id-1 div.sk-item {position: relative;z-index: 1;}#sk-container-id-1 div.sk-parallel {display: flex;align-items: stretch;justify-content: center;background-color: white;position: relative;}#sk-container-id-1 div.sk-item::before, #sk-container-id-1 div.sk-parallel-item::before {content: \"\";position: absolute;border-left: 1px solid gray;box-sizing: border-box;top: 0;bottom: 0;left: 50%;z-index: -1;}#sk-container-id-1 div.sk-parallel-item {display: flex;flex-direction: column;z-index: 1;position: relative;background-color: white;}#sk-container-id-1 div.sk-parallel-item:first-child::after {align-self: flex-end;width: 50%;}#sk-container-id-1 div.sk-parallel-item:last-child::after {align-self: flex-start;width: 50%;}#sk-container-id-1 div.sk-parallel-item:only-child::after {width: 0;}#sk-container-id-1 div.sk-dashed-wrapped {border: 1px dashed gray;margin: 0 0.4em 0.5em 0.4em;box-sizing: border-box;padding-bottom: 0.4em;background-color: white;}#sk-container-id-1 div.sk-label label {font-family: monospace;font-weight: bold;display: inline-block;line-height: 1.2em;}#sk-container-id-1 div.sk-label-container {text-align: center;}#sk-container-id-1 div.sk-container {/* jupyter's `normalize.less` sets `[hidden] { display: none; }` but bootstrap.min.css set `[hidden] { display: none !important; }` so we also need the `!important` here to be able to override the default hidden behavior on the sphinx rendered scikit-learn.org. See: https://github.com/scikit-learn/scikit-learn/issues/21755 */display: inline-block !important;position: relative;}#sk-container-id-1 div.sk-text-repr-fallback {display: none;}</style><div id=\"sk-container-id-1\" class=\"sk-top-container\"><div class=\"sk-text-repr-fallback\"><pre>KNeighborsClassifier(n_neighbors=3)</pre><b>In a Jupyter environment, please rerun this cell to show the HTML representation or trust the notebook. <br />On GitHub, the HTML representation is unable to render, please try loading this page with nbviewer.org.</b></div><div class=\"sk-container\" hidden><div class=\"sk-item\"><div class=\"sk-estimator sk-toggleable\"><input class=\"sk-toggleable__control sk-hidden--visually\" id=\"sk-estimator-id-1\" type=\"checkbox\" checked><label for=\"sk-estimator-id-1\" class=\"sk-toggleable__label sk-toggleable__label-arrow\">KNeighborsClassifier</label><div class=\"sk-toggleable__content\"><pre>KNeighborsClassifier(n_neighbors=3)</pre></div></div></div></div></div>"
            ]
          },
          "metadata": {},
          "execution_count": 16
        }
      ]
    },
    {
      "cell_type": "code",
      "source": [
        "y_pred = knn_model.predict(X_test)"
      ],
      "metadata": {
        "id": "EBYnkV5W8bLc"
      },
      "execution_count": 17,
      "outputs": []
    },
    {
      "cell_type": "code",
      "source": [
        "print(classification_report(y_test, y_pred))"
      ],
      "metadata": {
        "colab": {
          "base_uri": "https://localhost:8080/"
        },
        "id": "x5Qe7MvJ9Eok",
        "outputId": "af97b0f7-7c31-4ae4-fe2c-2e0b8290bb47"
      },
      "execution_count": 18,
      "outputs": [
        {
          "output_type": "stream",
          "name": "stdout",
          "text": [
            "              precision    recall  f1-score   support\n",
            "\n",
            "           0       0.81      0.66      0.73      1313\n",
            "           1       0.84      0.92      0.87      2491\n",
            "\n",
            "    accuracy                           0.83      3804\n",
            "   macro avg       0.82      0.79      0.80      3804\n",
            "weighted avg       0.83      0.83      0.82      3804\n",
            "\n"
          ]
        }
      ]
    },
    {
      "cell_type": "markdown",
      "source": [
        "# SVM"
      ],
      "metadata": {
        "id": "QSz61tqCN0xc"
      }
    },
    {
      "cell_type": "code",
      "source": [
        "from sklearn.svm import SVC"
      ],
      "metadata": {
        "id": "LEDzUL-vUt2G"
      },
      "execution_count": 19,
      "outputs": []
    },
    {
      "cell_type": "code",
      "source": [
        "svm_model = SVC()\n",
        "svm_model.fit(X_train, y_train)"
      ],
      "metadata": {
        "colab": {
          "base_uri": "https://localhost:8080/",
          "height": 74
        },
        "id": "cgSOj7maWNnk",
        "outputId": "bbd6ff88-a9ea-4642-88ad-fb89cef3e4bc"
      },
      "execution_count": 20,
      "outputs": [
        {
          "output_type": "execute_result",
          "data": {
            "text/plain": [
              "SVC()"
            ],
            "text/html": [
              "<style>#sk-container-id-2 {color: black;background-color: white;}#sk-container-id-2 pre{padding: 0;}#sk-container-id-2 div.sk-toggleable {background-color: white;}#sk-container-id-2 label.sk-toggleable__label {cursor: pointer;display: block;width: 100%;margin-bottom: 0;padding: 0.3em;box-sizing: border-box;text-align: center;}#sk-container-id-2 label.sk-toggleable__label-arrow:before {content: \"▸\";float: left;margin-right: 0.25em;color: #696969;}#sk-container-id-2 label.sk-toggleable__label-arrow:hover:before {color: black;}#sk-container-id-2 div.sk-estimator:hover label.sk-toggleable__label-arrow:before {color: black;}#sk-container-id-2 div.sk-toggleable__content {max-height: 0;max-width: 0;overflow: hidden;text-align: left;background-color: #f0f8ff;}#sk-container-id-2 div.sk-toggleable__content pre {margin: 0.2em;color: black;border-radius: 0.25em;background-color: #f0f8ff;}#sk-container-id-2 input.sk-toggleable__control:checked~div.sk-toggleable__content {max-height: 200px;max-width: 100%;overflow: auto;}#sk-container-id-2 input.sk-toggleable__control:checked~label.sk-toggleable__label-arrow:before {content: \"▾\";}#sk-container-id-2 div.sk-estimator input.sk-toggleable__control:checked~label.sk-toggleable__label {background-color: #d4ebff;}#sk-container-id-2 div.sk-label input.sk-toggleable__control:checked~label.sk-toggleable__label {background-color: #d4ebff;}#sk-container-id-2 input.sk-hidden--visually {border: 0;clip: rect(1px 1px 1px 1px);clip: rect(1px, 1px, 1px, 1px);height: 1px;margin: -1px;overflow: hidden;padding: 0;position: absolute;width: 1px;}#sk-container-id-2 div.sk-estimator {font-family: monospace;background-color: #f0f8ff;border: 1px dotted black;border-radius: 0.25em;box-sizing: border-box;margin-bottom: 0.5em;}#sk-container-id-2 div.sk-estimator:hover {background-color: #d4ebff;}#sk-container-id-2 div.sk-parallel-item::after {content: \"\";width: 100%;border-bottom: 1px solid gray;flex-grow: 1;}#sk-container-id-2 div.sk-label:hover label.sk-toggleable__label {background-color: #d4ebff;}#sk-container-id-2 div.sk-serial::before {content: \"\";position: absolute;border-left: 1px solid gray;box-sizing: border-box;top: 0;bottom: 0;left: 50%;z-index: 0;}#sk-container-id-2 div.sk-serial {display: flex;flex-direction: column;align-items: center;background-color: white;padding-right: 0.2em;padding-left: 0.2em;position: relative;}#sk-container-id-2 div.sk-item {position: relative;z-index: 1;}#sk-container-id-2 div.sk-parallel {display: flex;align-items: stretch;justify-content: center;background-color: white;position: relative;}#sk-container-id-2 div.sk-item::before, #sk-container-id-2 div.sk-parallel-item::before {content: \"\";position: absolute;border-left: 1px solid gray;box-sizing: border-box;top: 0;bottom: 0;left: 50%;z-index: -1;}#sk-container-id-2 div.sk-parallel-item {display: flex;flex-direction: column;z-index: 1;position: relative;background-color: white;}#sk-container-id-2 div.sk-parallel-item:first-child::after {align-self: flex-end;width: 50%;}#sk-container-id-2 div.sk-parallel-item:last-child::after {align-self: flex-start;width: 50%;}#sk-container-id-2 div.sk-parallel-item:only-child::after {width: 0;}#sk-container-id-2 div.sk-dashed-wrapped {border: 1px dashed gray;margin: 0 0.4em 0.5em 0.4em;box-sizing: border-box;padding-bottom: 0.4em;background-color: white;}#sk-container-id-2 div.sk-label label {font-family: monospace;font-weight: bold;display: inline-block;line-height: 1.2em;}#sk-container-id-2 div.sk-label-container {text-align: center;}#sk-container-id-2 div.sk-container {/* jupyter's `normalize.less` sets `[hidden] { display: none; }` but bootstrap.min.css set `[hidden] { display: none !important; }` so we also need the `!important` here to be able to override the default hidden behavior on the sphinx rendered scikit-learn.org. See: https://github.com/scikit-learn/scikit-learn/issues/21755 */display: inline-block !important;position: relative;}#sk-container-id-2 div.sk-text-repr-fallback {display: none;}</style><div id=\"sk-container-id-2\" class=\"sk-top-container\"><div class=\"sk-text-repr-fallback\"><pre>SVC()</pre><b>In a Jupyter environment, please rerun this cell to show the HTML representation or trust the notebook. <br />On GitHub, the HTML representation is unable to render, please try loading this page with nbviewer.org.</b></div><div class=\"sk-container\" hidden><div class=\"sk-item\"><div class=\"sk-estimator sk-toggleable\"><input class=\"sk-toggleable__control sk-hidden--visually\" id=\"sk-estimator-id-2\" type=\"checkbox\" checked><label for=\"sk-estimator-id-2\" class=\"sk-toggleable__label sk-toggleable__label-arrow\">SVC</label><div class=\"sk-toggleable__content\"><pre>SVC()</pre></div></div></div></div></div>"
            ]
          },
          "metadata": {},
          "execution_count": 20
        }
      ]
    },
    {
      "cell_type": "code",
      "source": [
        "y = svm_model.predict(X_test)\n",
        "print(classification_report(y_test, y))"
      ],
      "metadata": {
        "colab": {
          "base_uri": "https://localhost:8080/"
        },
        "id": "B5RbkrGBN5aL",
        "outputId": "c3899552-9b98-4112-8a54-24b5c2797634"
      },
      "execution_count": 21,
      "outputs": [
        {
          "output_type": "stream",
          "name": "stdout",
          "text": [
            "              precision    recall  f1-score   support\n",
            "\n",
            "           0       0.88      0.70      0.78      1313\n",
            "           1       0.86      0.95      0.90      2491\n",
            "\n",
            "    accuracy                           0.86      3804\n",
            "   macro avg       0.87      0.83      0.84      3804\n",
            "weighted avg       0.87      0.86      0.86      3804\n",
            "\n"
          ]
        }
      ]
    },
    {
      "cell_type": "code",
      "source": [
        "y2 = svm_model.predict(X_train)\n",
        "print(classification_report(y_train, y2))"
      ],
      "metadata": {
        "colab": {
          "base_uri": "https://localhost:8080/"
        },
        "id": "aUYn4csbN7OG",
        "outputId": "ad9c6a8b-1fcc-404b-9736-fbf09478bc50"
      },
      "execution_count": 22,
      "outputs": [
        {
          "output_type": "stream",
          "name": "stdout",
          "text": [
            "              precision    recall  f1-score   support\n",
            "\n",
            "           0       0.90      0.71      0.80      4037\n",
            "           1       0.86      0.96      0.91      7375\n",
            "\n",
            "    accuracy                           0.87     11412\n",
            "   macro avg       0.88      0.84      0.85     11412\n",
            "weighted avg       0.87      0.87      0.87     11412\n",
            "\n"
          ]
        }
      ]
    },
    {
      "cell_type": "markdown",
      "source": [
        "# Neural Net"
      ],
      "metadata": {
        "id": "aRsyyu-PX7AW"
      }
    },
    {
      "cell_type": "code",
      "source": [
        "import tensorflow as tf"
      ],
      "metadata": {
        "id": "QAdtCWCtX_av"
      },
      "execution_count": 23,
      "outputs": []
    },
    {
      "cell_type": "code",
      "source": [
        "X_train.shape, y_train.shape"
      ],
      "metadata": {
        "colab": {
          "base_uri": "https://localhost:8080/"
        },
        "id": "1I8f4nrIYeHg",
        "outputId": "492f6106-4b49-49fa-8972-2ebbad07e674"
      },
      "execution_count": 24,
      "outputs": [
        {
          "output_type": "execute_result",
          "data": {
            "text/plain": [
              "((11412, 10), (11412,))"
            ]
          },
          "metadata": {},
          "execution_count": 24
        }
      ]
    },
    {
      "cell_type": "code",
      "source": [
        "nn_model = tf.keras.models.Sequential(\n",
        "    layers = [\n",
        "        tf.keras.layers.Dense(units = 16, activation='relu', input_shape=(10,)),\n",
        "        tf.keras.layers.Dense(units = 16, activation='relu'),\n",
        "        tf.keras.layers.Dropout(0.3),\n",
        "\n",
        "        tf.keras.layers.Dense(units = 1, activation='sigmoid')]\n",
        ")\n",
        "\n",
        "nn_model.compile(optimizer='adam', loss='binary_crossentropy', metrics= ['accuracy', 'mse'])"
      ],
      "metadata": {
        "id": "u9t-CQ-gX54G"
      },
      "execution_count": 53,
      "outputs": []
    },
    {
      "cell_type": "code",
      "source": [
        "history = nn_model.fit(X_train, y_train, epochs=30, validation_data=(X_val, y_val))"
      ],
      "metadata": {
        "colab": {
          "base_uri": "https://localhost:8080/"
        },
        "id": "FCt7W7gZZP4M",
        "outputId": "773a9696-d1e8-4b71-e0ff-78943a18babc"
      },
      "execution_count": 54,
      "outputs": [
        {
          "output_type": "stream",
          "name": "stdout",
          "text": [
            "Epoch 1/30\n",
            "357/357 [==============================] - 4s 5ms/step - loss: 0.5245 - accuracy: 0.7402 - mse: 0.1758 - val_loss: 0.4167 - val_accuracy: 0.8068 - val_mse: 0.1334\n",
            "Epoch 2/30\n",
            "357/357 [==============================] - 2s 4ms/step - loss: 0.4242 - accuracy: 0.8131 - mse: 0.1353 - val_loss: 0.3835 - val_accuracy: 0.8304 - val_mse: 0.1207\n",
            "Epoch 3/30\n",
            "357/357 [==============================] - 2s 4ms/step - loss: 0.3992 - accuracy: 0.8294 - mse: 0.1250 - val_loss: 0.3645 - val_accuracy: 0.8438 - val_mse: 0.1134\n",
            "Epoch 4/30\n",
            "357/357 [==============================] - 2s 4ms/step - loss: 0.3842 - accuracy: 0.8373 - mse: 0.1196 - val_loss: 0.3519 - val_accuracy: 0.8488 - val_mse: 0.1095\n",
            "Epoch 5/30\n",
            "357/357 [==============================] - 2s 4ms/step - loss: 0.3737 - accuracy: 0.8453 - mse: 0.1156 - val_loss: 0.3447 - val_accuracy: 0.8586 - val_mse: 0.1065\n",
            "Epoch 6/30\n",
            "357/357 [==============================] - 2s 5ms/step - loss: 0.3715 - accuracy: 0.8510 - mse: 0.1142 - val_loss: 0.3404 - val_accuracy: 0.8599 - val_mse: 0.1048\n",
            "Epoch 7/30\n",
            "357/357 [==============================] - 2s 6ms/step - loss: 0.3667 - accuracy: 0.8512 - mse: 0.1124 - val_loss: 0.3366 - val_accuracy: 0.8615 - val_mse: 0.1035\n",
            "Epoch 8/30\n",
            "357/357 [==============================] - 2s 5ms/step - loss: 0.3610 - accuracy: 0.8549 - mse: 0.1108 - val_loss: 0.3318 - val_accuracy: 0.8609 - val_mse: 0.1021\n",
            "Epoch 9/30\n",
            "357/357 [==============================] - 2s 4ms/step - loss: 0.3580 - accuracy: 0.8540 - mse: 0.1097 - val_loss: 0.3305 - val_accuracy: 0.8620 - val_mse: 0.1014\n",
            "Epoch 10/30\n",
            "357/357 [==============================] - 2s 5ms/step - loss: 0.3536 - accuracy: 0.8562 - mse: 0.1080 - val_loss: 0.3269 - val_accuracy: 0.8667 - val_mse: 0.1002\n",
            "Epoch 11/30\n",
            "357/357 [==============================] - 2s 4ms/step - loss: 0.3522 - accuracy: 0.8599 - mse: 0.1075 - val_loss: 0.3253 - val_accuracy: 0.8620 - val_mse: 0.0998\n",
            "Epoch 12/30\n",
            "357/357 [==============================] - 2s 5ms/step - loss: 0.3500 - accuracy: 0.8602 - mse: 0.1067 - val_loss: 0.3231 - val_accuracy: 0.8662 - val_mse: 0.0989\n",
            "Epoch 13/30\n",
            "357/357 [==============================] - 2s 5ms/step - loss: 0.3430 - accuracy: 0.8614 - mse: 0.1049 - val_loss: 0.3248 - val_accuracy: 0.8672 - val_mse: 0.0998\n",
            "Epoch 14/30\n",
            "357/357 [==============================] - 2s 7ms/step - loss: 0.3424 - accuracy: 0.8641 - mse: 0.1043 - val_loss: 0.3205 - val_accuracy: 0.8675 - val_mse: 0.0982\n",
            "Epoch 15/30\n",
            "357/357 [==============================] - 2s 7ms/step - loss: 0.3434 - accuracy: 0.8607 - mse: 0.1048 - val_loss: 0.3205 - val_accuracy: 0.8680 - val_mse: 0.0982\n",
            "Epoch 16/30\n",
            "357/357 [==============================] - 2s 5ms/step - loss: 0.3403 - accuracy: 0.8623 - mse: 0.1037 - val_loss: 0.3178 - val_accuracy: 0.8709 - val_mse: 0.0971\n",
            "Epoch 17/30\n",
            "357/357 [==============================] - 2s 5ms/step - loss: 0.3383 - accuracy: 0.8620 - mse: 0.1036 - val_loss: 0.3212 - val_accuracy: 0.8672 - val_mse: 0.0981\n",
            "Epoch 18/30\n",
            "357/357 [==============================] - 2s 5ms/step - loss: 0.3362 - accuracy: 0.8648 - mse: 0.1027 - val_loss: 0.3174 - val_accuracy: 0.8707 - val_mse: 0.0969\n",
            "Epoch 19/30\n",
            "357/357 [==============================] - 2s 5ms/step - loss: 0.3358 - accuracy: 0.8628 - mse: 0.1027 - val_loss: 0.3140 - val_accuracy: 0.8720 - val_mse: 0.0960\n",
            "Epoch 20/30\n",
            "357/357 [==============================] - 2s 5ms/step - loss: 0.3330 - accuracy: 0.8633 - mse: 0.1019 - val_loss: 0.3144 - val_accuracy: 0.8712 - val_mse: 0.0963\n",
            "Epoch 21/30\n",
            "357/357 [==============================] - 2s 6ms/step - loss: 0.3327 - accuracy: 0.8631 - mse: 0.1017 - val_loss: 0.3139 - val_accuracy: 0.8704 - val_mse: 0.0962\n",
            "Epoch 22/30\n",
            "357/357 [==============================] - 2s 6ms/step - loss: 0.3299 - accuracy: 0.8658 - mse: 0.1012 - val_loss: 0.3110 - val_accuracy: 0.8722 - val_mse: 0.0952\n",
            "Epoch 23/30\n",
            "357/357 [==============================] - 2s 5ms/step - loss: 0.3311 - accuracy: 0.8661 - mse: 0.1012 - val_loss: 0.3155 - val_accuracy: 0.8696 - val_mse: 0.0965\n",
            "Epoch 24/30\n",
            "357/357 [==============================] - 2s 4ms/step - loss: 0.3307 - accuracy: 0.8643 - mse: 0.1009 - val_loss: 0.3117 - val_accuracy: 0.8688 - val_mse: 0.0953\n",
            "Epoch 25/30\n",
            "357/357 [==============================] - 2s 4ms/step - loss: 0.3269 - accuracy: 0.8660 - mse: 0.0996 - val_loss: 0.3098 - val_accuracy: 0.8733 - val_mse: 0.0947\n",
            "Epoch 26/30\n",
            "357/357 [==============================] - 2s 5ms/step - loss: 0.3307 - accuracy: 0.8648 - mse: 0.1006 - val_loss: 0.3094 - val_accuracy: 0.8712 - val_mse: 0.0945\n",
            "Epoch 27/30\n",
            "357/357 [==============================] - 2s 4ms/step - loss: 0.3277 - accuracy: 0.8653 - mse: 0.1002 - val_loss: 0.3099 - val_accuracy: 0.8688 - val_mse: 0.0950\n",
            "Epoch 28/30\n",
            "357/357 [==============================] - 2s 4ms/step - loss: 0.3243 - accuracy: 0.8654 - mse: 0.0992 - val_loss: 0.3070 - val_accuracy: 0.8704 - val_mse: 0.0940\n",
            "Epoch 29/30\n",
            "357/357 [==============================] - 2s 6ms/step - loss: 0.3243 - accuracy: 0.8661 - mse: 0.0994 - val_loss: 0.3082 - val_accuracy: 0.8701 - val_mse: 0.0943\n",
            "Epoch 30/30\n",
            "357/357 [==============================] - 2s 7ms/step - loss: 0.3247 - accuracy: 0.8663 - mse: 0.0988 - val_loss: 0.3109 - val_accuracy: 0.8693 - val_mse: 0.0949\n"
          ]
        }
      ]
    },
    {
      "cell_type": "code",
      "source": [
        "pd.DataFrame(history.history).plot()"
      ],
      "metadata": {
        "colab": {
          "base_uri": "https://localhost:8080/",
          "height": 447
        },
        "id": "Bnma0HvIZmP9",
        "outputId": "7454ceb6-5d60-4170-9e6d-2bb3928d00e7"
      },
      "execution_count": 55,
      "outputs": [
        {
          "output_type": "execute_result",
          "data": {
            "text/plain": [
              "<Axes: >"
            ]
          },
          "metadata": {},
          "execution_count": 55
        },
        {
          "output_type": "display_data",
          "data": {
            "text/plain": [
              "<Figure size 640x480 with 1 Axes>"
            ],
            "image/png": "[encoded data removed]"
          },
          "metadata": {}
        }
      ]
    },
    {
      "cell_type": "code",
      "source": [
        "nn_model.evaluate(X_test, y_test)"
      ],
      "metadata": {
        "colab": {
          "base_uri": "https://localhost:8080/"
        },
        "id": "_ExVIwJyaJAh",
        "outputId": "5e8c16fa-8ade-42ee-cfff-54fdca31d4cd"
      },
      "execution_count": 56,
      "outputs": [
        {
          "output_type": "stream",
          "name": "stdout",
          "text": [
            "119/119 [==============================] - 0s 3ms/step - loss: 0.3265 - accuracy: 0.8686 - mse: 0.0992\n"
          ]
        },
        {
          "output_type": "execute_result",
          "data": {
            "text/plain": [
              "[0.3264785408973694, 0.8685594201087952, 0.0991593450307846]"
            ]
          },
          "metadata": {},
          "execution_count": 56
        }
      ]
    },
    {
      "cell_type": "markdown",
      "source": [
        "Tried losses: MAE, MSE, binary cross entropy. All give around 87 % test accuracy. \n",
        "\n",
        "Training for more than 60 epochs results in overfitting and after the 30th epoch gains in accuracy are negligible.\n",
        "\n",
        "Dropout layers seem to have no effect\n",
        "\n",
        "Adding more layers and more units seems to have no effect\n",
        "\n",
        "**CONCLUSION**: SVM performs as well as a neural net while being a lot less computationally expensive."
      ],
      "metadata": {
        "id": "98fgTIRzbbXQ"
      }
    }
  ]
}