{
  "nbformat": 4,
  "nbformat_minor": 0,
  "metadata": {
    "colab": {
      "provenance": [],
      "gpuType": "T4",
      "authorship_tag": "ABX9TyOuoi7tbFuJiEn6pMqBwXk9",
      "include_colab_link": true
    },
    "kernelspec": {
      "name": "python3",
      "display_name": "Python 3"
    },
    "language_info": {
      "name": "python"
    },
    "accelerator": "GPU",
    "gpuClass": "standard"
  },
  "cells": [
    {
      "cell_type": "markdown",
      "metadata": {
        "id": "view-in-github",
        "colab_type": "text"
      },
      "source": [
        "<a href=\"https://colab.research.google.com/github/afaale/ML/blob/ML/RNN_FromScratch_test_latex.ipynb\" target=\"_parent\"><img src=\"https://colab.research.google.com/assets/colab-badge.svg\" alt=\"Open In Colab\"/></a>"
      ]
    },
    {
      "cell_type": "markdown",
      "source": [
        "RNN from scratch. \n",
        "\n",
        "https://towardsdatascience.com/recurrent-neural-networks-rnns-3f06d7653a85"
      ],
      "metadata": {
        "id": "J58JxI_-2Y_j"
      }
    },
    {
      "cell_type": "markdown",
      "source": [
        "![abcde.webp](data:image/webp;base64,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)"
      ],
      "metadata": {
        "id": "HiXJe-6cn8x-"
      }
    },
    {
      "cell_type": "markdown",
      "source": [
        "General steps to follow:\n",
        "\n",
        "1.Initialize weight matrices U, V, W from random distribution and bias b, c with zeros\n",
        "\n",
        "2.Forward propagation to compute predictions\n",
        "\n",
        "3.Compute the loss\n",
        "\n",
        "4.Back-propagation to compute gradients\n",
        "\n",
        "5.Update weights based on gradients\n",
        "\n",
        "6.Repeat steps 2–5"
      ],
      "metadata": {
        "id": "BagMqNjGoVHO"
      }
    },
    {
      "cell_type": "code",
      "source": [
        "import random\n",
        "import tensorflow as tf\n",
        "import numpy as np"
      ],
      "metadata": {
        "id": "NKsLClLn0k9M"
      },
      "execution_count": 11,
      "outputs": []
    },
    {
      "cell_type": "markdown",
      "source": [
        "Dimensions:Let’s assume we pick a vocabulary size vocab_size= 8000 and a hidden layer size hidden_size=100. Then we have:\n",
        "\n"
      ],
      "metadata": {
        "id": "c483Kw425L0C"
      }
    },
    {
      "cell_type": "markdown",
      "source": [
        "$E = mc^2$\n"
      ],
      "metadata": {
        "id": "-o0O38q4Ep9E"
      }
    },
    {
      "cell_type": "markdown",
      "source": [],
      "metadata": {
        "id": "Mb0BmcKw5MHw"
      }
    },
    {
      "cell_type": "code",
      "execution_count": 9,
      "metadata": {
        "colab": {
          "base_uri": "https://localhost:8080/",
          "height": 425
        },
        "id": "ciBioxI42I4b",
        "outputId": "04b6e8f3-50e1-4d6c-a59e-fd6a7f1d3af3"
      },
      "outputs": [
        {
          "output_type": "stream",
          "name": "stderr",
          "text": [
            "<ipython-input-9-0438c5f55d5c>:2: RuntimeWarning: divide by zero encountered in double_scalars\n",
            "  mat = np.random.uniform(-1/np.sqrt(m_dim), 1/np.sqrt(m_dim), size = (n_dim, m_dim))\n"
          ]
        },
        {
          "output_type": "error",
          "ename": "OverflowError",
          "evalue": "ignored",
          "traceback": [
            "\u001b[0;31m---------------------------------------------------------------------------\u001b[0m",
            "\u001b[0;31mOverflowError\u001b[0m                             Traceback (most recent call last)",
            "\u001b[0;32m<ipython-input-9-0438c5f55d5c>\u001b[0m in \u001b[0;36m<cell line: 5>\u001b[0;34m()\u001b[0m\n\u001b[1;32m      3\u001b[0m     \u001b[0;32mreturn\u001b[0m \u001b[0mmat\u001b[0m\u001b[0;34m\u001b[0m\u001b[0;34m\u001b[0m\u001b[0m\n\u001b[1;32m      4\u001b[0m \u001b[0;34m\u001b[0m\u001b[0m\n\u001b[0;32m----> 5\u001b[0;31m \u001b[0mb\u001b[0m \u001b[0;34m=\u001b[0m \u001b[0minit_weights\u001b[0m\u001b[0;34m(\u001b[0m\u001b[0;36m8000\u001b[0m\u001b[0;34m,\u001b[0m \u001b[0;36m0\u001b[0m\u001b[0;34m)\u001b[0m\u001b[0;34m\u001b[0m\u001b[0;34m\u001b[0m\u001b[0m\n\u001b[0m\u001b[1;32m      6\u001b[0m \u001b[0mc\u001b[0m \u001b[0;34m=\u001b[0m \u001b[0minit_weights\u001b[0m\u001b[0;34m(\u001b[0m\u001b[0;36m0\u001b[0m\u001b[0;34m,\u001b[0m\u001b[0;36m8000\u001b[0m\u001b[0;34m)\u001b[0m\u001b[0;34m\u001b[0m\u001b[0;34m\u001b[0m\u001b[0m\n\u001b[1;32m      7\u001b[0m \u001b[0;34m\u001b[0m\u001b[0m\n",
            "\u001b[0;32m<ipython-input-9-0438c5f55d5c>\u001b[0m in \u001b[0;36minit_weights\u001b[0;34m(n_dim, m_dim)\u001b[0m\n\u001b[1;32m      1\u001b[0m \u001b[0;32mdef\u001b[0m \u001b[0minit_weights\u001b[0m\u001b[0;34m(\u001b[0m\u001b[0mn_dim\u001b[0m\u001b[0;34m,\u001b[0m \u001b[0mm_dim\u001b[0m\u001b[0;34m)\u001b[0m\u001b[0;34m:\u001b[0m\u001b[0;34m\u001b[0m\u001b[0;34m\u001b[0m\u001b[0m\n\u001b[0;32m----> 2\u001b[0;31m     \u001b[0mmat\u001b[0m \u001b[0;34m=\u001b[0m \u001b[0mnp\u001b[0m\u001b[0;34m.\u001b[0m\u001b[0mrandom\u001b[0m\u001b[0;34m.\u001b[0m\u001b[0muniform\u001b[0m\u001b[0;34m(\u001b[0m\u001b[0;34m-\u001b[0m\u001b[0;36m1\u001b[0m\u001b[0;34m/\u001b[0m\u001b[0mnp\u001b[0m\u001b[0;34m.\u001b[0m\u001b[0msqrt\u001b[0m\u001b[0;34m(\u001b[0m\u001b[0mm_dim\u001b[0m\u001b[0;34m)\u001b[0m\u001b[0;34m,\u001b[0m \u001b[0;36m1\u001b[0m\u001b[0;34m/\u001b[0m\u001b[0mnp\u001b[0m\u001b[0;34m.\u001b[0m\u001b[0msqrt\u001b[0m\u001b[0;34m(\u001b[0m\u001b[0mm_dim\u001b[0m\u001b[0;34m)\u001b[0m\u001b[0;34m,\u001b[0m \u001b[0msize\u001b[0m \u001b[0;34m=\u001b[0m \u001b[0;34m(\u001b[0m\u001b[0mn_dim\u001b[0m\u001b[0;34m,\u001b[0m \u001b[0mm_dim\u001b[0m\u001b[0;34m)\u001b[0m\u001b[0;34m)\u001b[0m\u001b[0;34m\u001b[0m\u001b[0;34m\u001b[0m\u001b[0m\n\u001b[0m\u001b[1;32m      3\u001b[0m     \u001b[0;32mreturn\u001b[0m \u001b[0mmat\u001b[0m\u001b[0;34m\u001b[0m\u001b[0;34m\u001b[0m\u001b[0m\n\u001b[1;32m      4\u001b[0m \u001b[0;34m\u001b[0m\u001b[0m\n\u001b[1;32m      5\u001b[0m \u001b[0mb\u001b[0m \u001b[0;34m=\u001b[0m \u001b[0minit_weights\u001b[0m\u001b[0;34m(\u001b[0m\u001b[0;36m8000\u001b[0m\u001b[0;34m,\u001b[0m \u001b[0;36m0\u001b[0m\u001b[0;34m)\u001b[0m\u001b[0;34m\u001b[0m\u001b[0;34m\u001b[0m\u001b[0m\n",
            "\u001b[0;32mmtrand.pyx\u001b[0m in \u001b[0;36mnumpy.random.mtrand.RandomState.uniform\u001b[0;34m()\u001b[0m\n",
            "\u001b[0;31mOverflowError\u001b[0m: Range exceeds valid bounds"
          ]
        }
      ],
      "source": [
        "class RNN:\n",
        "    def __init__(self, hidden_size, vocab_size, seq_length, learning_rate):\n",
        "        self.hidden_size = hidden_size\n",
        "        self.vocab_size = vocab_size\n",
        "        self.seq_length = seq_length\n",
        "        self.learning_rate = learning_rate\n",
        "        \n",
        "        #from -1/sqrt(n) to 1/sqrt(n) where n is the number of incoming connections from the previous layer.\n",
        "        #i.e. vocab_size is dim of x, hidden_size is dim of h\n",
        "        self.U = np.random.uniform(-1/np.sqrt(vocab_size), 1/np.sqrt(vocab_size), size=(hidden_size, vocab_size))\n",
        "        self.V = np.random.uniform(-1/np.sqrt(hidden_size), 1/np.sqrt(hidden_size), size=(vocab_size, hidden_size))\n",
        "        self.W = np.random.uniform(-1/np.sqrt(hidden_size), 1/np.sqrt(hidden_size), size=(hidden_size, hidden_size))\n",
        "        self.b = np.zeros(hidden_size, 1) #bias for hidden layer \n",
        "        self.c = np.zeros(vocab_size, 1) # bias for output\n",
        "        \n",
        "\n"
      ]
    },
    {
      "cell_type": "code",
      "source": [],
      "metadata": {
        "id": "Fa27yrBioBA7"
      },
      "execution_count": null,
      "outputs": []
    }
  ]
}