{
  "nbformat": 4,
  "nbformat_minor": 0,
  "metadata": {
    "colab": {
      "provenance": [],
      "mount_file_id": "1LO4GPw-Omi1Tqr0p9SijwTlP09iAKjQI",
      "authorship_tag": "ABX9TyPXuFoxdD6e76N4R0+OxLu8",
      "include_colab_link": true
    },
    "kernelspec": {
      "name": "python3",
      "display_name": "Python 3"
    },
    "language_info": {
      "name": "python"
    }
  },
  "cells": [
    {
      "cell_type": "markdown",
      "metadata": {
        "id": "view-in-github",
        "colab_type": "text"
      },
      "source": [
        "<a href=\"https://colab.research.google.com/github/afaale/ML/blob/ML/Mnist_nums_numpy_only.ipynb\" target=\"_parent\"><img src=\"https://colab.research.google.com/assets/colab-badge.svg\" alt=\"Open In Colab\"/></a>"
      ]
    },
    {
      "cell_type": "markdown",
      "source": [
        "Attempt at predicting 28*28 px handwritten digits without tensorflow or keras, apart from loading the mnist dataset. The guide I followed is \n",
        "https://towardsdatascience.com/mnist-handwritten-digits-classification-from-scratch-using-python-numpy-b08e401c4dab"
      ],
      "metadata": {
        "id": "mwPFcUdnwBAj"
      }
    },
    {
      "cell_type": "code",
      "execution_count": 4,
      "metadata": {
        "id": "Ogm93lZSNvUe"
      },
      "outputs": [],
      "source": [
        "from keras.datasets import mnist\n",
        "import numpy as np\n",
        "from matplotlib import pyplot as plt\n",
        "import keras"
      ]
    },
    {
      "cell_type": "code",
      "source": [
        "(X_train,y_train), (X_test, y_test) = mnist.load_data()"
      ],
      "metadata": {
        "id": "4edOZSbeODBg",
        "colab": {
          "base_uri": "https://localhost:8080/"
        },
        "outputId": "a9ea2812-6921-4ede-8d42-f06f1d143705"
      },
      "execution_count": 5,
      "outputs": [
        {
          "output_type": "stream",
          "name": "stdout",
          "text": [
            "Downloading data from https://storage.googleapis.com/tensorflow/tf-keras-datasets/mnist.npz\n",
            "11490434/11490434 [==============================] - 0s 0us/step\n"
          ]
        }
      ]
    },
    {
      "cell_type": "code",
      "source": [
        "#Validation split\n",
        "rand = np.arange(60000)\n",
        "#np.random.shuffle(rand)\n",
        "\n",
        "train_num = rand[:50000]\n",
        "val_num = rand[50000:]\n",
        "\n",
        "X_train, X_val = X_train[train_num], X_train[val_num]\n",
        "y_train, y_val = y_train[train_num], y_train[val_num]\n",
        "X_train.shape,X_val.shape,y_test.shape, y_val.shape\n"
      ],
      "metadata": {
        "colab": {
          "base_uri": "https://localhost:8080/"
        },
        "id": "eLf3eUeCZeC4",
        "outputId": "d771cdf2-335f-422f-f799-015985c7ae22"
      },
      "execution_count": 6,
      "outputs": [
        {
          "output_type": "execute_result",
          "data": {
            "text/plain": [
              "((50000, 28, 28), (10000, 28, 28), (10000,), (10000,))"
            ]
          },
          "metadata": {},
          "execution_count": 6
        }
      ]
    },
    {
      "cell_type": "code",
      "source": [
        "def init(x,y):\n",
        "    #initialize weight matrices\n",
        "    layer = np.random.uniform(-1,1, size=(x,y))/np.sqrt(x*y)\n",
        "    return layer.astype(np.float32)\n",
        "\n",
        "l1 = init(28*28, 128)\n",
        "l2 = init(128, 10)\n",
        "l1"
      ],
      "metadata": {
        "id": "tRk_4QkuONlC",
        "outputId": "e370ce5e-3f16-440f-aae0-a90b2b77afcc",
        "colab": {
          "base_uri": "https://localhost:8080/"
        }
      },
      "execution_count": 7,
      "outputs": [
        {
          "output_type": "execute_result",
          "data": {
            "text/plain": [
              "array([[-1.0697895e-03,  1.1405038e-04, -2.5644854e-03, ...,\n",
              "        -2.9394235e-03, -1.8240644e-03, -1.7526557e-03],\n",
              "       [-6.5442349e-05, -1.8304684e-03,  1.4367673e-03, ...,\n",
              "        -1.2803435e-03,  1.7942283e-03, -2.7872690e-03],\n",
              "       [ 5.8182178e-04,  2.3616131e-03,  6.5780513e-04, ...,\n",
              "        -8.4398547e-04, -3.8834251e-04, -1.1745419e-03],\n",
              "       ...,\n",
              "       [ 1.7910042e-03,  2.9611643e-03, -2.6786565e-03, ...,\n",
              "        -2.9991248e-03, -7.9321401e-04, -1.4099642e-03],\n",
              "       [ 2.8428677e-03,  6.7153428e-04,  2.4490096e-03, ...,\n",
              "         2.3846463e-03, -3.2527393e-04,  1.1189635e-03],\n",
              "       [ 5.6752050e-04,  3.8799882e-04, -1.3593591e-03, ...,\n",
              "        -2.3298622e-04,  1.9209263e-03,  2.3537450e-03]], dtype=float32)"
            ]
          },
          "metadata": {},
          "execution_count": 7
        }
      ]
    },
    {
      "cell_type": "code",
      "source": [
        "sigmoid = lambda z: 1 / (1+np.e**-z)\n",
        "dsigmoid = lambda z: sigmoid(z)*(1-sigmoid(z))"
      ],
      "metadata": {
        "id": "oHJs1jg-e4OU"
      },
      "execution_count": 8,
      "outputs": []
    },
    {
      "cell_type": "code",
      "source": [
        "#altered softmax e^z/sum_1_k(e^z) for computational efficiency\n",
        "def softmax(x):\n",
        "    exp_element=np.exp(x-x.max())\n",
        "    return exp_element/np.sum(exp_element,axis=0)\n",
        "\n",
        "#derivative of softmax\n",
        "def d_softmax(x):\n",
        "    exp_element=np.exp(x-x.max())\n",
        "    return exp_element/np.sum(exp_element,axis=0)*(1-exp_element/np.sum(exp_element,axis=0))"
      ],
      "metadata": {
        "id": "dtFUB6jyfJT6"
      },
      "execution_count": 9,
      "outputs": []
    },
    {
      "cell_type": "code",
      "source": [
        "def forward_backward_pass(x,y):\n",
        "    #1-hot encode labels\n",
        "    targets = np.zeros((len(y), 10), np.float32)\n",
        "    targets[range(targets.shape[0]), y] = 1\n",
        "\n",
        "    #forward pass: input-->hidden_layer-->output\n",
        "    #hidden layer activated with sigmoid,\n",
        "    #output_layer activated(normalized) with softmax\n",
        "    x_l1 = x.dot(l1)\n",
        "    x_sigmoid = sigmoid(x_l1)\n",
        "    x_l2 = x_sigmoid.dot(l2)\n",
        "    out = softmax(x_l2)\n",
        "\n",
        "    #backprop: calculate error y-y_hat, calculate gradient, update weights\n",
        "\n",
        "    #derivative of output(softmax) w/r to x_l2.\n",
        "    error = 2*(out-targets)/out.shape[0]*d_softmax(x_l2)\n",
        "    #matrix multiply to get matrix of same dimensions as l2, which can be \n",
        "    #subtracted from actual l2 weights matrix to update its weights\n",
        "    update_l2 = x_sigmoid.T@(error)\n",
        "\n",
        "    #derivative of x_sigmoid, i.e. layer1, w/r to x_l1\n",
        "    error = (l2.dot(error.T)).T*dsigmoid(x_l1)\n",
        "    #same idea as above\n",
        "    update_l1 = x.T@(error)\n",
        "\n",
        "    return out, update_l1, update_l2\n",
        "\n"
      ],
      "metadata": {
        "id": "EGFxnAY2f_HQ"
      },
      "execution_count": 10,
      "outputs": []
    },
    {
      "cell_type": "markdown",
      "source": [
        "# **Examples. No need to execute.**"
      ],
      "metadata": {
        "id": "0-G33TW2wKnH"
      }
    },
    {
      "cell_type": "code",
      "source": [
        "epochs = 11\n",
        "lr = 0.001\n",
        "batch = 128\n",
        "\n",
        "sample = np.random.randint(0, X_train.shape[0], size=batch)\n",
        "x_batch = X_train[sample].reshape(-1, 28*28)\n",
        "y_batch = y_train[sample]"
      ],
      "metadata": {
        "id": "rnJRgYN3kjnb"
      },
      "execution_count": null,
      "outputs": []
    },
    {
      "cell_type": "code",
      "source": [
        "out, update_l1, update_l2 = forward_backward_pass(x_batch,y_batch)\n"
      ],
      "metadata": {
        "id": "rdnmhg5qRyQl"
      },
      "execution_count": null,
      "outputs": []
    },
    {
      "cell_type": "code",
      "source": [
        "category = np.argmax(out, axis=1)\n",
        "accuracy = (category == y_batch).mean()\n",
        "#accuracies.append(accuracy)\n",
        "loss = ((category-y_batch)**2).mean()\n",
        "#losses.append(loss)\n",
        "l1 -= lr*update_l1\n",
        "l2 -= lr*update_l2"
      ],
      "metadata": {
        "id": "XmIfeyA5UDNx"
      },
      "execution_count": null,
      "outputs": []
    },
    {
      "cell_type": "code",
      "source": [
        "ex=np.array(y_train[0]).reshape(1,1)\n",
        "ex"
      ],
      "metadata": {
        "colab": {
          "base_uri": "https://localhost:8080/"
        },
        "id": "Eb8N5cSLKc9W",
        "outputId": "0793cfc2-de34-49e6-9b06-892161007b09"
      },
      "execution_count": null,
      "outputs": [
        {
          "output_type": "execute_result",
          "data": {
            "text/plain": [
              "array([[5]], dtype=uint8)"
            ]
          },
          "metadata": {},
          "execution_count": 58
        }
      ]
    },
    {
      "cell_type": "code",
      "source": [
        "example_out = np.zeros((len(ex),10), np.float32)\n",
        "example_out[0,ex] = 1\n",
        "example_out"
      ],
      "metadata": {
        "colab": {
          "base_uri": "https://localhost:8080/"
        },
        "id": "XD5AuqHyJr3T",
        "outputId": "90f47ef0-da43-40d2-95ad-45d3c5bac72a"
      },
      "execution_count": null,
      "outputs": [
        {
          "output_type": "execute_result",
          "data": {
            "text/plain": [
              "array([[0., 0., 0., 0., 0., 1., 0., 0., 0., 0.]], dtype=float32)"
            ]
          },
          "metadata": {},
          "execution_count": 59
        }
      ]
    },
    {
      "cell_type": "markdown",
      "source": [
        "# **End of examples**"
      ],
      "metadata": {
        "id": "Ku0lolvAwUzs"
      }
    },
    {
      "cell_type": "code",
      "source": [
        "#training phase in a for loop\n",
        "\n",
        "epochs = 13000\n",
        "lr = 0.001\n",
        "batch = 128\n",
        "losses, accuracies, val_accuracies = [], [], []\n",
        "\n",
        "for i in range(epochs):\n",
        "    sample = np.random.randint(0,X_train.shape[0],batch)\n",
        "    X_batch = X_train[sample].reshape(-1,28*28)\n",
        "    y_batch = y_train[sample]\n",
        "\n",
        "    out, update_l1, update_l2 = forward_backward_pass(X_batch, y_batch)\n",
        "    category = np.argmax(out, axis=1)\n",
        "    accuracy = (category==y_batch).mean()\n",
        "    accuracies.append(accuracies)\n",
        "\n",
        "    loss = ((category-y_batch)**2).mean()\n",
        "    losses.append(loss)\n",
        "\n",
        "    l1 -= lr*update_l1\n",
        "    l2 -= lr*update_l2\n",
        "\n",
        "    if i % 20 == 0:\n",
        "        X_val = X_val.reshape(-1,28*28)\n",
        "        val_out = np.argmax(softmax((sigmoid(X_val.dot(l1))).dot(l2)), axis=1)\n",
        "        val_accuracy = (val_out == y_val).mean()\n",
        "        val_accuracies.append(val_accuracy)\n",
        "    if i % 500 == 0:\n",
        "        print(f\"epoch:{i}, accuracy:{accuracy}, validation accuracy: {val_accuracy}\")        \n",
        "\n",
        "\n",
        "\n",
        "\n"
      ],
      "metadata": {
        "colab": {
          "base_uri": "https://localhost:8080/"
        },
        "id": "tt0y0kxgYY4H",
        "outputId": "2781d575-7d59-41ba-9250-00b8794a8bd0"
      },
      "execution_count": 11,
      "outputs": [
        {
          "output_type": "stream",
          "name": "stdout",
          "text": [
            "epoch:0, accuracy:0.046875, validation accuracy: 0.0935\n",
            "epoch:500, accuracy:0.640625, validation accuracy: 0.6257\n",
            "epoch:1000, accuracy:0.6796875, validation accuracy: 0.7058\n",
            "epoch:1500, accuracy:0.7421875, validation accuracy: 0.7422\n",
            "epoch:2000, accuracy:0.7890625, validation accuracy: 0.7631\n",
            "epoch:2500, accuracy:0.765625, validation accuracy: 0.7807\n",
            "epoch:3000, accuracy:0.734375, validation accuracy: 0.7906\n",
            "epoch:3500, accuracy:0.8515625, validation accuracy: 0.7995\n",
            "epoch:4000, accuracy:0.7890625, validation accuracy: 0.8063\n",
            "epoch:4500, accuracy:0.8046875, validation accuracy: 0.8124\n",
            "epoch:5000, accuracy:0.828125, validation accuracy: 0.8162\n",
            "epoch:5500, accuracy:0.8046875, validation accuracy: 0.8189\n",
            "epoch:6000, accuracy:0.765625, validation accuracy: 0.8228\n",
            "epoch:6500, accuracy:0.8671875, validation accuracy: 0.8246\n",
            "epoch:7000, accuracy:0.78125, validation accuracy: 0.8255\n",
            "epoch:7500, accuracy:0.828125, validation accuracy: 0.8281\n",
            "epoch:8000, accuracy:0.765625, validation accuracy: 0.828\n",
            "epoch:8500, accuracy:0.8125, validation accuracy: 0.829\n",
            "epoch:9000, accuracy:0.8359375, validation accuracy: 0.8312\n",
            "epoch:9500, accuracy:0.765625, validation accuracy: 0.8314\n",
            "epoch:10000, accuracy:0.8515625, validation accuracy: 0.8327\n",
            "epoch:10500, accuracy:0.828125, validation accuracy: 0.8311\n",
            "epoch:11000, accuracy:0.75, validation accuracy: 0.8331\n",
            "epoch:11500, accuracy:0.8671875, validation accuracy: 0.8325\n",
            "epoch:12000, accuracy:0.8671875, validation accuracy: 0.8323\n",
            "epoch:12500, accuracy:0.8046875, validation accuracy: 0.8324\n"
          ]
        }
      ]
    },
    {
      "cell_type": "code",
      "source": [
        "plt.plot(val_accuracies)\n"
      ],
      "metadata": {
        "colab": {
          "base_uri": "https://localhost:8080/",
          "height": 447
        },
        "id": "MDRgegFxPimF",
        "outputId": "51b3ca25-0483-41f4-b1ea-5a2cd461aa47"
      },
      "execution_count": null,
      "outputs": [
        {
          "output_type": "execute_result",
          "data": {
            "text/plain": [
              "[<matplotlib.lines.Line2D at 0x7f2decbeed40>]"
            ]
          },
          "metadata": {},
          "execution_count": 61
        },
        {
          "output_type": "display_data",
          "data": {
            "text/plain": [
              "<Figure size 640x480 with 1 Axes>"
            ],
            "image/png": "[encoded data removed]"
          },
          "metadata": {}
        }
      ]
    },
    {
      "cell_type": "code",
      "source": [
        "X_test = X_test.reshape(-1, 28*28)\n",
        "test_out=np.argmax(softmax(sigmoid(X_test.dot(l1)).dot(l2)),axis=1)\n",
        "test_acc=(test_out==y_test).mean().item()\n",
        "print(f'Test accuracy = {test_acc*100:.2f}%')\n",
        " "
      ],
      "metadata": {
        "colab": {
          "base_uri": "https://localhost:8080/"
        },
        "id": "N4GG5ky_QN1p",
        "outputId": "3bf22864-c71d-48a0-8edd-a9c42dfb50cd"
      },
      "execution_count": 12,
      "outputs": [
        {
          "output_type": "stream",
          "name": "stdout",
          "text": [
            "Test accuracy = 82.14%\n"
          ]
        }
      ]
    },
    {
      "cell_type": "code",
      "source": [
        "m = [[0,0,0,0,0,0,0],\n",
        "     [0,0,0,10,0,0,0],\n",
        "     [0,0,0,10,0,0,0],\n",
        "     [0,0,0,10,0,0,0],\n",
        "     [0,0,0,10,0,0,0],\n",
        "     [0,0,0,10,0,0,0],\n",
        "     [0,0,0,0,0,0,0]]\n",
        "\n",
        "m = np.concatenate([np.concatenate([[x]*4 for x in y]*4) for y in m])\n",
        "m=m.reshape(1,-1)\n",
        "plt.imshow(m.reshape(28,28))\n",
        "x = np.argmax(sigmoid(m.dot(l1)).dot(l2),axis=1)\n",
        "x"
      ],
      "metadata": {
        "colab": {
          "base_uri": "https://localhost:8080/",
          "height": 447
        },
        "id": "veQIBsx9QYyO",
        "outputId": "b1be4d68-e19e-423c-e2f0-4734dc2c90da"
      },
      "execution_count": 70,
      "outputs": [
        {
          "output_type": "execute_result",
          "data": {
            "text/plain": [
              "array([1])"
            ]
          },
          "metadata": {},
          "execution_count": 70
        },
        {
          "output_type": "display_data",
          "data": {
            "text/plain": [
              "<Figure size 640x480 with 1 Axes>"
            ],
            "image/png": "[encoded data removed]"
          },
          "metadata": {}
        }
      ]
    },
    {
      "cell_type": "markdown",
      "source": [],
      "metadata": {
        "id": "jeUamxRvxaBg"
      }
    },
    {
      "cell_type": "markdown",
      "source": [
        "# Saving weights for 1st and 2nd layer. CAREFUL NOT TO CLICK AFTER TRAINING."
      ],
      "metadata": {
        "id": "1gfZXXMbuBaR"
      }
    },
    {
      "cell_type": "code",
      "source": [
        "np.savetxt('weights_layer1.csv', l1, delimiter=',')\n",
        "np.savetxt('weights_layer2.csv', l2, delimiter=',')"
      ],
      "metadata": {
        "id": "hIQ3UbB7rKh5"
      },
      "execution_count": null,
      "outputs": []
    },
    {
      "cell_type": "markdown",
      "source": [
        "Loading weights for 1st and 2nd layer. Restart runtime before executing next cell. Test accuracy should be 83.15%"
      ],
      "metadata": {
        "id": "1SbajdU5xisp"
      }
    },
    {
      "cell_type": "code",
      "source": [
        "import pandas as pd\n",
        "import numpy as np"
      ],
      "metadata": {
        "id": "K0e14IPLwhvQ"
      },
      "execution_count": 1,
      "outputs": []
    },
    {
      "cell_type": "code",
      "source": [
        "l1 = pd.read_csv('https://raw.githubusercontent.com/afaale/ML/ML/weights_layer1.csv', sep=',',encoding='ISO-8859–1', header=None)\n",
        "l2 = pd.read_csv('https://raw.githubusercontent.com/afaale/ML/ML/weights_layer2.csv', sep=',',encoding='ISO-8859–1', header=None)\n",
        "l1 = np.array(l1)\n",
        "l2 = np.array(l2)\n",
        "l1.shape, l2.shape"
      ],
      "metadata": {
        "colab": {
          "base_uri": "https://localhost:8080/"
        },
        "id": "LBk-fVlqKfJo",
        "outputId": "d84ab6ed-4e48-4d35-81e1-2badb177560c"
      },
      "execution_count": 45,
      "outputs": [
        {
          "output_type": "execute_result",
          "data": {
            "text/plain": [
              "((784, 128), (128, 10))"
            ]
          },
          "metadata": {},
          "execution_count": 45
        }
      ]
    },
    {
      "cell_type": "markdown",
      "source": [
        "Bypassing training."
      ],
      "metadata": {
        "id": "erk82x2XxFMy"
      }
    },
    {
      "cell_type": "code",
      "execution_count": 47,
      "metadata": {
        "id": "0Nt67xH6x32x"
      },
      "outputs": [],
      "source": [
        "from keras.datasets import mnist\n",
        "from matplotlib import pyplot as plt\n",
        "import keras"
      ]
    },
    {
      "cell_type": "code",
      "source": [
        "(X_train,y_train), (X_test, y_test) = mnist.load_data()"
      ],
      "metadata": {
        "id": "sLVDEl0yx7Yf"
      },
      "execution_count": 48,
      "outputs": []
    },
    {
      "cell_type": "code",
      "source": [
        "#Validation split\n",
        "rand = np.arange(60000)\n",
        "#np.random.shuffle(rand)\n",
        "\n",
        "train_num = rand[:50000]\n",
        "val_num = rand[50000:]\n",
        "\n",
        "X_train, X_val = X_train[train_num], X_train[val_num]\n",
        "y_train, y_val = y_train[train_num], y_train[val_num]\n",
        "X_train.shape,X_val.shape,y_test.shape, y_val.shape\n"
      ],
      "metadata": {
        "id": "_zpczXckx8bd",
        "outputId": "702f661a-e773-4995-eaf1-310b448119d6",
        "colab": {
          "base_uri": "https://localhost:8080/"
        }
      },
      "execution_count": 49,
      "outputs": [
        {
          "output_type": "execute_result",
          "data": {
            "text/plain": [
              "((50000, 28, 28), (10000, 28, 28), (10000,), (10000,))"
            ]
          },
          "metadata": {},
          "execution_count": 49
        }
      ]
    },
    {
      "cell_type": "code",
      "source": [
        "sigmoid = lambda z: 1 / (1+np.e**-z)\n",
        "dsigmoid = lambda z: sigmoid(z)*(1-sigmoid(z))"
      ],
      "metadata": {
        "id": "2oo83lIfyBQZ"
      },
      "execution_count": 50,
      "outputs": []
    },
    {
      "cell_type": "code",
      "source": [
        "#altered softmax e^z/sum_1_k(e^z) for computational efficiency\n",
        "def softmax(x):\n",
        "    exp_element=np.exp(x-x.max())\n",
        "    return exp_element/np.sum(exp_element,axis=0)\n",
        "\n",
        "#derivative of softmax\n",
        "def d_softmax(x):\n",
        "    exp_element=np.exp(x-x.max())\n",
        "    return exp_element/np.sum(exp_element,axis=0)*(1-exp_element/np.sum(exp_element,axis=0))"
      ],
      "metadata": {
        "id": "pvgqmU7OyL_q"
      },
      "execution_count": 51,
      "outputs": []
    },
    {
      "cell_type": "code",
      "source": [
        "X_test = X_test.reshape(-1, 28*28)\n",
        "test_out=np.argmax(softmax(sigmoid(X_test.dot(l1)).dot(l2)),axis=1)\n",
        "test_acc=(test_out==y_test).mean().item()\n",
        "print(f'Test accuracy = {test_acc*100:.2f}%')"
      ],
      "metadata": {
        "id": "8YN8thaz17Iv",
        "outputId": "ac788074-59c0-4df1-d53d-7813807eba0c",
        "colab": {
          "base_uri": "https://localhost:8080/"
        }
      },
      "execution_count": 71,
      "outputs": [
        {
          "output_type": "stream",
          "name": "stdout",
          "text": [
            "Test accuracy = 83.15%\n"
          ]
        }
      ]
    }
  ]
}